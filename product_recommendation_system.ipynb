{
  "cells": [
    {
      "cell_type": "markdown",
      "metadata": {
        "id": "EdILuyLgml_R"
      },
      "source": [
        "# E-commerce Product recommendation System"
      ]
    },
    {
      "cell_type": "markdown",
      "metadata": {
        "id": "m-26iTTympFi"
      },
      "source": [
        "## Importing libraries"
      ]
    },
    {
      "cell_type": "code",
      "execution_count": 87,
      "metadata": {
        "id": "2tSOMad1mlsK"
      },
      "outputs": [],
      "source": [
        "import numpy as np\n",
        "import pandas as pd\n",
        "import matplotlib.pyplot as plt\n",
        "\n",
        "# %matplotlib inline\n",
        "plt.style.use(\"ggplot\")\n",
        "\n",
        "from sklearn.metrics.pairwise import cosine_similarity\n",
        "\n",
        "from sklearn.metrics import mean_squared_error\n",
        "\n",
        "from scipy.sparse.linalg import svds # for sparse matrices"
      ]
    },
    {
      "cell_type": "markdown",
      "metadata": {
        "id": "_eRqhkyAmvFJ"
      },
      "source": [
        "## Loading Dataset"
      ]
    },
    {
      "cell_type": "code",
      "execution_count": 3,
      "metadata": {
        "id": "mnM0NIFemhh0"
      },
      "outputs": [
        {
          "data": {
            "text/html": [
              "<div>\n",
              "<style scoped>\n",
              "    .dataframe tbody tr th:only-of-type {\n",
              "        vertical-align: middle;\n",
              "    }\n",
              "\n",
              "    .dataframe tbody tr th {\n",
              "        vertical-align: top;\n",
              "    }\n",
              "\n",
              "    .dataframe thead th {\n",
              "        text-align: right;\n",
              "    }\n",
              "</style>\n",
              "<table border=\"1\" class=\"dataframe\">\n",
              "  <thead>\n",
              "    <tr style=\"text-align: right;\">\n",
              "      <th></th>\n",
              "      <th>UserId</th>\n",
              "      <th>ProductId</th>\n",
              "      <th>Rating</th>\n",
              "      <th>Timestamp</th>\n",
              "    </tr>\n",
              "  </thead>\n",
              "  <tbody>\n",
              "    <tr>\n",
              "      <th>0</th>\n",
              "      <td>A39HTATAQ9V7YF</td>\n",
              "      <td>0205616461</td>\n",
              "      <td>5.0</td>\n",
              "      <td>1369699200</td>\n",
              "    </tr>\n",
              "    <tr>\n",
              "      <th>1</th>\n",
              "      <td>A3JM6GV9MNOF9X</td>\n",
              "      <td>0558925278</td>\n",
              "      <td>3.0</td>\n",
              "      <td>1355443200</td>\n",
              "    </tr>\n",
              "    <tr>\n",
              "      <th>2</th>\n",
              "      <td>A1Z513UWSAAO0F</td>\n",
              "      <td>0558925278</td>\n",
              "      <td>5.0</td>\n",
              "      <td>1404691200</td>\n",
              "    </tr>\n",
              "    <tr>\n",
              "      <th>3</th>\n",
              "      <td>A1WMRR494NWEWV</td>\n",
              "      <td>0733001998</td>\n",
              "      <td>4.0</td>\n",
              "      <td>1382572800</td>\n",
              "    </tr>\n",
              "    <tr>\n",
              "      <th>4</th>\n",
              "      <td>A3IAAVS479H7M7</td>\n",
              "      <td>0737104473</td>\n",
              "      <td>1.0</td>\n",
              "      <td>1274227200</td>\n",
              "    </tr>\n",
              "  </tbody>\n",
              "</table>\n",
              "</div>"
            ],
            "text/plain": [
              "           UserId   ProductId  Rating   Timestamp\n",
              "0  A39HTATAQ9V7YF  0205616461     5.0  1369699200\n",
              "1  A3JM6GV9MNOF9X  0558925278     3.0  1355443200\n",
              "2  A1Z513UWSAAO0F  0558925278     5.0  1404691200\n",
              "3  A1WMRR494NWEWV  0733001998     4.0  1382572800\n",
              "4  A3IAAVS479H7M7  0737104473     1.0  1274227200"
            ]
          },
          "execution_count": 3,
          "metadata": {},
          "output_type": "execute_result"
        }
      ],
      "source": [
        "df = pd.read_csv('raw/ratings.csv')\n",
        "df = df.dropna()\n",
        "df.head()"
      ]
    },
    {
      "cell_type": "markdown",
      "metadata": {
        "id": "tbUt2ZCcm2PZ"
      },
      "source": [
        "## EDA - Exploratory Data Analysis\n",
        "\n",
        "check for -\n",
        "- shape\n",
        "- datatype\n",
        "- missing values\n",
        "\n",
        "\n",
        "finally get the summary and check\n",
        "- rating distribution.\n",
        "- number of users and products.\n",
        "- Users with highest no of ratings."
      ]
    },
    {
      "cell_type": "markdown",
      "metadata": {
        "id": "P31sJRBKm7Ox"
      },
      "source": [
        "### Shape"
      ]
    },
    {
      "cell_type": "code",
      "execution_count": 4,
      "metadata": {
        "colab": {
          "base_uri": "https://localhost:8080/"
        },
        "id": "BR0rkn1hm5Ii",
        "outputId": "b725b51e-a8d4-4786-c853-aaeb70a2da9b"
      },
      "outputs": [
        {
          "name": "stdout",
          "output_type": "stream",
          "text": [
            "No of rows =  2023070\n",
            "No of columns =  4\n"
          ]
        }
      ],
      "source": [
        "rows, columns = df.shape\n",
        "print(\"No of rows = \", rows)\n",
        "print(\"No of columns = \", columns)"
      ]
    },
    {
      "cell_type": "markdown",
      "metadata": {
        "id": "BR_AWE5dm-Aw"
      },
      "source": [
        "### Datatypes"
      ]
    },
    {
      "cell_type": "code",
      "execution_count": 5,
      "metadata": {
        "colab": {
          "base_uri": "https://localhost:8080/"
        },
        "id": "VSZphiYsnB7h",
        "outputId": "32ed764d-62be-4b8b-b83a-942128032636"
      },
      "outputs": [
        {
          "name": "stdout",
          "output_type": "stream",
          "text": [
            "<class 'pandas.core.frame.DataFrame'>\n",
            "RangeIndex: 2023070 entries, 0 to 2023069\n",
            "Data columns (total 4 columns):\n",
            " #   Column     Dtype  \n",
            "---  ------     -----  \n",
            " 0   UserId     object \n",
            " 1   ProductId  object \n",
            " 2   Rating     float64\n",
            " 3   Timestamp  int64  \n",
            "dtypes: float64(1), int64(1), object(2)\n",
            "memory usage: 61.7+ MB\n"
          ]
        }
      ],
      "source": [
        "df.info()"
      ]
    },
    {
      "cell_type": "markdown",
      "metadata": {
        "id": "nMpYlCbKm__h"
      },
      "source": [
        "### Missing value analysis"
      ]
    },
    {
      "cell_type": "code",
      "execution_count": 6,
      "metadata": {
        "colab": {
          "base_uri": "https://localhost:8080/"
        },
        "id": "TmDkgSH-nG-w",
        "outputId": "b86286cf-692f-4487-a8eb-3ab912d36fea"
      },
      "outputs": [
        {
          "data": {
            "text/plain": [
              "UserId       0\n",
              "ProductId    0\n",
              "Rating       0\n",
              "Timestamp    0\n",
              "dtype: int64"
            ]
          },
          "execution_count": 6,
          "metadata": {},
          "output_type": "execute_result"
        }
      ],
      "source": [
        "# Find number of missing values in each column\n",
        "df.isna().sum()"
      ]
    },
    {
      "cell_type": "markdown",
      "metadata": {
        "id": "NuapKpPOnIxg"
      },
      "source": [
        "### Summary"
      ]
    },
    {
      "cell_type": "code",
      "execution_count": 7,
      "metadata": {
        "colab": {
          "base_uri": "https://localhost:8080/"
        },
        "id": "GykhgQNpnLB4",
        "outputId": "aee57776-f225-40d5-a337-f4ccf182a966"
      },
      "outputs": [
        {
          "data": {
            "text/plain": [
              "count    2.023070e+06\n",
              "mean     4.149036e+00\n",
              "std      1.311505e+00\n",
              "min      1.000000e+00\n",
              "25%      4.000000e+00\n",
              "50%      5.000000e+00\n",
              "75%      5.000000e+00\n",
              "max      5.000000e+00\n",
              "Name: Rating, dtype: float64"
            ]
          },
          "execution_count": 7,
          "metadata": {},
          "output_type": "execute_result"
        }
      ],
      "source": [
        "# Summary statistics of 'rating' variable\n",
        "df['Rating'].describe()"
      ]
    },
    {
      "cell_type": "markdown",
      "metadata": {
        "id": "qITdLlQenOL5"
      },
      "source": [
        "### Rating distribution"
      ]
    },
    {
      "cell_type": "code",
      "execution_count": 8,
      "metadata": {
        "colab": {
          "base_uri": "https://localhost:8080/",
          "height": 530
        },
        "id": "UGyEWlm9nN0Y",
        "outputId": "ac6635fd-e22a-4132-f6bd-9ad76a3cca48"
      },
      "outputs": [
        {
          "data": {
            "image/png": "[encoded data removed]",
            "text/plain": [
              "<Figure size 1200x600 with 1 Axes>"
            ]
          },
          "metadata": {},
          "output_type": "display_data"
        }
      ],
      "source": [
        "#Create the plot and provide observations\n",
        "\n",
        "plt.figure(figsize = (12,6))\n",
        "df['Rating'].value_counts(1).plot(kind='bar')\n",
        "plt.show()"
      ]
    },
    {
      "cell_type": "markdown",
      "metadata": {
        "id": "EyqB_PZOnbNq"
      },
      "source": [
        "The distribution is skewed to the right. Over 50% of the ratings are 5, followed by a little below 20% with 4 star ratings. And the percentages of ratings keep going down until below 10% of the ratings are 2 stars."
      ]
    },
    {
      "cell_type": "markdown",
      "metadata": {
        "id": "_hoBfcSmncDJ"
      },
      "source": [
        "### No of unique users and items"
      ]
    },
    {
      "cell_type": "code",
      "execution_count": 9,
      "metadata": {},
      "outputs": [
        {
          "data": {
            "text/plain": [
              "(2023070, 4)"
            ]
          },
          "execution_count": 9,
          "metadata": {},
          "output_type": "execute_result"
        }
      ],
      "source": [
        "df.shape"
      ]
    },
    {
      "cell_type": "code",
      "execution_count": 10,
      "metadata": {
        "colab": {
          "base_uri": "https://localhost:8080/"
        },
        "id": "bTzXXqwrnZKh",
        "outputId": "f6dac2c0-588d-49d8-c760-258a049341aa"
      },
      "outputs": [
        {
          "name": "stdout",
          "output_type": "stream",
          "text": [
            "Number of unique USERS in Raw data =  1210271\n",
            "Number of unique ITEMS in Raw data =  249274\n"
          ]
        }
      ],
      "source": [
        "# Number of unique user id and product id in the data\n",
        "print('Number of unique USERS in Raw data = ', df['UserId'].nunique())\n",
        "print('Number of unique ITEMS in Raw data = ', df['ProductId'].nunique())"
      ]
    },
    {
      "cell_type": "markdown",
      "metadata": {
        "id": "PhOahvbHnkZJ"
      },
      "source": [
        "### Users with most no of rating"
      ]
    },
    {
      "cell_type": "code",
      "execution_count": 11,
      "metadata": {
        "colab": {
          "base_uri": "https://localhost:8080/"
        },
        "id": "DZ80koFAngO4",
        "outputId": "45ec9525-fff5-4dbc-8319-43cbbc5df884"
      },
      "outputs": [
        {
          "data": {
            "text/plain": [
              "UserId\n",
              "A3KEZLJ59C1JVH    389\n",
              "A281NPSIMI1C2R    336\n",
              "A3M174IC0VXOS2    326\n",
              "A2V5R832QCSOMX    278\n",
              "A3LJLRIZL38GG3    276\n",
              "ALQGOMOY1F5X9     275\n",
              "AKMEY1BSHSDG7     269\n",
              "A3R9H6OKZHHRJD    259\n",
              "A1M04H40ZVGWVG    249\n",
              "A1RRMZKOMZ2M7J    225\n",
              "dtype: int64"
            ]
          },
          "execution_count": 11,
          "metadata": {},
          "output_type": "execute_result"
        }
      ],
      "source": [
        "# Top 10 users based on rating\n",
        "most_rated = df.groupby('UserId').size().sort_values(ascending=False)[:10]\n",
        "most_rated"
      ]
    },
    {
      "cell_type": "markdown",
      "metadata": {
        "id": "ekGg2mL5oaNA"
      },
      "source": [
        "## Pre-Processing\n",
        "\n",
        "Let's take a subset of the dataset (by only keeping the users who have given 50 or more ratings) to make the dataset less sparse and easy to work with."
      ]
    },
    {
      "cell_type": "code",
      "execution_count": 12,
      "metadata": {
        "id": "k3T1weHIodDw"
      },
      "outputs": [],
      "source": [
        "counts = df['UserId'].value_counts()\n",
        "df_final = df[df['UserId'].isin(counts[counts >= 50].index)]"
      ]
    },
    {
      "cell_type": "code",
      "execution_count": 13,
      "metadata": {
        "colab": {
          "base_uri": "https://localhost:8080/"
        },
        "id": "KDnxTiwUordB",
        "outputId": "24eb9a76-ec91-46e9-92b7-397d4adaa25f"
      },
      "outputs": [
        {
          "name": "stdout",
          "output_type": "stream",
          "text": [
            "The number of observations in the final data = 29559\n",
            "Number of unique USERS in the final data =  361\n",
            "Number of unique PRODUCTS in the final data =  17228\n"
          ]
        }
      ],
      "source": [
        "print('The number of observations in the final data =', len(df_final))\n",
        "print('Number of unique USERS in the final data = ', df_final['UserId'].nunique())\n",
        "print('Number of unique PRODUCTS in the final data = ', df_final['ProductId'].nunique())"
      ]
    },
    {
      "cell_type": "markdown",
      "metadata": {
        "id": "tsmGpFwqocrg"
      },
      "source": [
        "- The dataframe **df_final has users who have rated 50 or more items**\n",
        "- **We will use df_final to build recommendation systems**"
      ]
    },
    {
      "cell_type": "markdown",
      "metadata": {
        "id": "k6t4Ee-Oo0vD"
      },
      "source": [
        "### Checking the density of the rating matrix"
      ]
    },
    {
      "cell_type": "code",
      "execution_count": 14,
      "metadata": {
        "colab": {
          "base_uri": "https://localhost:8080/",
          "height": 400
        },
        "id": "Q3kGwNuyoxiR",
        "outputId": "d67b95ea-2336-4268-b89b-044fc329ef85"
      },
      "outputs": [
        {
          "name": "stdout",
          "output_type": "stream",
          "text": [
            "Shape of final_ratings_matrix:  (361, 17228)\n",
            "given_num_of_ratings =  29559\n",
            "possible_num_of_ratings =  6219308\n",
            "density: 0.48%\n"
          ]
        },
        {
          "data": {
            "text/html": [
              "<div>\n",
              "<style scoped>\n",
              "    .dataframe tbody tr th:only-of-type {\n",
              "        vertical-align: middle;\n",
              "    }\n",
              "\n",
              "    .dataframe tbody tr th {\n",
              "        vertical-align: top;\n",
              "    }\n",
              "\n",
              "    .dataframe thead th {\n",
              "        text-align: right;\n",
              "    }\n",
              "</style>\n",
              "<table border=\"1\" class=\"dataframe\">\n",
              "  <thead>\n",
              "    <tr style=\"text-align: right;\">\n",
              "      <th>ProductId</th>\n",
              "      <th>0762451459</th>\n",
              "      <th>1304482596</th>\n",
              "      <th>1304482685</th>\n",
              "      <th>1304495396</th>\n",
              "      <th>1304511111</th>\n",
              "      <th>1304511138</th>\n",
              "      <th>1304622665</th>\n",
              "      <th>1304624498</th>\n",
              "      <th>1304651029</th>\n",
              "      <th>130466578X</th>\n",
              "      <th>...</th>\n",
              "      <th>B00L3LB0IG</th>\n",
              "      <th>B00L3LBUGI</th>\n",
              "      <th>B00L4I5PJS</th>\n",
              "      <th>B00L5BXG36</th>\n",
              "      <th>B00L5KTZ0K</th>\n",
              "      <th>B00L7BX4FE</th>\n",
              "      <th>B00LG63DOM</th>\n",
              "      <th>B00LH81A0I</th>\n",
              "      <th>B00LLPT4HI</th>\n",
              "      <th>B00LMOT7X4</th>\n",
              "    </tr>\n",
              "    <tr>\n",
              "      <th>UserId</th>\n",
              "      <th></th>\n",
              "      <th></th>\n",
              "      <th></th>\n",
              "      <th></th>\n",
              "      <th></th>\n",
              "      <th></th>\n",
              "      <th></th>\n",
              "      <th></th>\n",
              "      <th></th>\n",
              "      <th></th>\n",
              "      <th></th>\n",
              "      <th></th>\n",
              "      <th></th>\n",
              "      <th></th>\n",
              "      <th></th>\n",
              "      <th></th>\n",
              "      <th></th>\n",
              "      <th></th>\n",
              "      <th></th>\n",
              "      <th></th>\n",
              "      <th></th>\n",
              "    </tr>\n",
              "  </thead>\n",
              "  <tbody>\n",
              "    <tr>\n",
              "      <th>A100WO06OQR8BQ</th>\n",
              "      <td>0.0</td>\n",
              "      <td>0.0</td>\n",
              "      <td>0.0</td>\n",
              "      <td>0.0</td>\n",
              "      <td>0.0</td>\n",
              "      <td>0.0</td>\n",
              "      <td>0.0</td>\n",
              "      <td>0.0</td>\n",
              "      <td>0.0</td>\n",
              "      <td>0.0</td>\n",
              "      <td>...</td>\n",
              "      <td>0.0</td>\n",
              "      <td>0.0</td>\n",
              "      <td>0.0</td>\n",
              "      <td>0.0</td>\n",
              "      <td>0.0</td>\n",
              "      <td>0.0</td>\n",
              "      <td>0.0</td>\n",
              "      <td>0.0</td>\n",
              "      <td>0.0</td>\n",
              "      <td>0.0</td>\n",
              "    </tr>\n",
              "    <tr>\n",
              "      <th>A1047EDJ84IMAS</th>\n",
              "      <td>0.0</td>\n",
              "      <td>0.0</td>\n",
              "      <td>0.0</td>\n",
              "      <td>0.0</td>\n",
              "      <td>0.0</td>\n",
              "      <td>0.0</td>\n",
              "      <td>0.0</td>\n",
              "      <td>0.0</td>\n",
              "      <td>0.0</td>\n",
              "      <td>0.0</td>\n",
              "      <td>...</td>\n",
              "      <td>0.0</td>\n",
              "      <td>0.0</td>\n",
              "      <td>0.0</td>\n",
              "      <td>0.0</td>\n",
              "      <td>0.0</td>\n",
              "      <td>0.0</td>\n",
              "      <td>0.0</td>\n",
              "      <td>0.0</td>\n",
              "      <td>0.0</td>\n",
              "      <td>0.0</td>\n",
              "    </tr>\n",
              "    <tr>\n",
              "      <th>A10G136JEISLVR</th>\n",
              "      <td>0.0</td>\n",
              "      <td>0.0</td>\n",
              "      <td>0.0</td>\n",
              "      <td>0.0</td>\n",
              "      <td>0.0</td>\n",
              "      <td>0.0</td>\n",
              "      <td>0.0</td>\n",
              "      <td>0.0</td>\n",
              "      <td>0.0</td>\n",
              "      <td>0.0</td>\n",
              "      <td>...</td>\n",
              "      <td>0.0</td>\n",
              "      <td>0.0</td>\n",
              "      <td>0.0</td>\n",
              "      <td>0.0</td>\n",
              "      <td>0.0</td>\n",
              "      <td>0.0</td>\n",
              "      <td>0.0</td>\n",
              "      <td>0.0</td>\n",
              "      <td>0.0</td>\n",
              "      <td>0.0</td>\n",
              "    </tr>\n",
              "    <tr>\n",
              "      <th>A10Y59HW4O47N0</th>\n",
              "      <td>0.0</td>\n",
              "      <td>0.0</td>\n",
              "      <td>0.0</td>\n",
              "      <td>0.0</td>\n",
              "      <td>0.0</td>\n",
              "      <td>0.0</td>\n",
              "      <td>0.0</td>\n",
              "      <td>0.0</td>\n",
              "      <td>0.0</td>\n",
              "      <td>0.0</td>\n",
              "      <td>...</td>\n",
              "      <td>0.0</td>\n",
              "      <td>0.0</td>\n",
              "      <td>0.0</td>\n",
              "      <td>0.0</td>\n",
              "      <td>0.0</td>\n",
              "      <td>0.0</td>\n",
              "      <td>0.0</td>\n",
              "      <td>0.0</td>\n",
              "      <td>0.0</td>\n",
              "      <td>0.0</td>\n",
              "    </tr>\n",
              "    <tr>\n",
              "      <th>A110PQTEI6THU7</th>\n",
              "      <td>0.0</td>\n",
              "      <td>0.0</td>\n",
              "      <td>0.0</td>\n",
              "      <td>0.0</td>\n",
              "      <td>0.0</td>\n",
              "      <td>0.0</td>\n",
              "      <td>0.0</td>\n",
              "      <td>0.0</td>\n",
              "      <td>0.0</td>\n",
              "      <td>0.0</td>\n",
              "      <td>...</td>\n",
              "      <td>0.0</td>\n",
              "      <td>0.0</td>\n",
              "      <td>0.0</td>\n",
              "      <td>0.0</td>\n",
              "      <td>0.0</td>\n",
              "      <td>0.0</td>\n",
              "      <td>0.0</td>\n",
              "      <td>0.0</td>\n",
              "      <td>0.0</td>\n",
              "      <td>0.0</td>\n",
              "    </tr>\n",
              "  </tbody>\n",
              "</table>\n",
              "<p>5 rows × 17228 columns</p>\n",
              "</div>"
            ],
            "text/plain": [
              "ProductId       0762451459  1304482596  1304482685  1304495396  1304511111  \\\n",
              "UserId                                                                       \n",
              "A100WO06OQR8BQ         0.0         0.0         0.0         0.0         0.0   \n",
              "A1047EDJ84IMAS         0.0         0.0         0.0         0.0         0.0   \n",
              "A10G136JEISLVR         0.0         0.0         0.0         0.0         0.0   \n",
              "A10Y59HW4O47N0         0.0         0.0         0.0         0.0         0.0   \n",
              "A110PQTEI6THU7         0.0         0.0         0.0         0.0         0.0   \n",
              "\n",
              "ProductId       1304511138  1304622665  1304624498  1304651029  130466578X  \\\n",
              "UserId                                                                       \n",
              "A100WO06OQR8BQ         0.0         0.0         0.0         0.0         0.0   \n",
              "A1047EDJ84IMAS         0.0         0.0         0.0         0.0         0.0   \n",
              "A10G136JEISLVR         0.0         0.0         0.0         0.0         0.0   \n",
              "A10Y59HW4O47N0         0.0         0.0         0.0         0.0         0.0   \n",
              "A110PQTEI6THU7         0.0         0.0         0.0         0.0         0.0   \n",
              "\n",
              "ProductId       ...  B00L3LB0IG  B00L3LBUGI  B00L4I5PJS  B00L5BXG36  \\\n",
              "UserId          ...                                                   \n",
              "A100WO06OQR8BQ  ...         0.0         0.0         0.0         0.0   \n",
              "A1047EDJ84IMAS  ...         0.0         0.0         0.0         0.0   \n",
              "A10G136JEISLVR  ...         0.0         0.0         0.0         0.0   \n",
              "A10Y59HW4O47N0  ...         0.0         0.0         0.0         0.0   \n",
              "A110PQTEI6THU7  ...         0.0         0.0         0.0         0.0   \n",
              "\n",
              "ProductId       B00L5KTZ0K  B00L7BX4FE  B00LG63DOM  B00LH81A0I  B00LLPT4HI  \\\n",
              "UserId                                                                       \n",
              "A100WO06OQR8BQ         0.0         0.0         0.0         0.0         0.0   \n",
              "A1047EDJ84IMAS         0.0         0.0         0.0         0.0         0.0   \n",
              "A10G136JEISLVR         0.0         0.0         0.0         0.0         0.0   \n",
              "A10Y59HW4O47N0         0.0         0.0         0.0         0.0         0.0   \n",
              "A110PQTEI6THU7         0.0         0.0         0.0         0.0         0.0   \n",
              "\n",
              "ProductId       B00LMOT7X4  \n",
              "UserId                      \n",
              "A100WO06OQR8BQ         0.0  \n",
              "A1047EDJ84IMAS         0.0  \n",
              "A10G136JEISLVR         0.0  \n",
              "A10Y59HW4O47N0         0.0  \n",
              "A110PQTEI6THU7         0.0  \n",
              "\n",
              "[5 rows x 17228 columns]"
            ]
          },
          "execution_count": 14,
          "metadata": {},
          "output_type": "execute_result"
        }
      ],
      "source": [
        "#Creating the interaction matrix of products and users based on ratings and replacing NaN value with 0\n",
        "final_ratings_matrix = df_final.pivot(index = 'UserId', columns ='ProductId', values = 'Rating').fillna(0)\n",
        "print('Shape of final_ratings_matrix: ', final_ratings_matrix.shape)\n",
        "\n",
        "#Finding the number of non-zero entries in the interaction matrix\n",
        "given_num_of_ratings = np.count_nonzero(final_ratings_matrix)\n",
        "print('given_num_of_ratings = ', given_num_of_ratings)\n",
        "\n",
        "#Finding the possible number of ratings as per the number of users and products\n",
        "possible_num_of_ratings = final_ratings_matrix.shape[0] * final_ratings_matrix.shape[1]\n",
        "print('possible_num_of_ratings = ', possible_num_of_ratings)\n",
        "\n",
        "#Density of ratings\n",
        "density = (given_num_of_ratings/possible_num_of_ratings)\n",
        "density *= 100\n",
        "print ('density: {:4.2f}%'.format(density))\n",
        "\n",
        "final_ratings_matrix.head()"
      ]
    },
    {
      "cell_type": "markdown",
      "metadata": {
        "id": "7dzfbm7tw1YJ"
      },
      "source": [
        "# Rank Based Recommendation System"
      ]
    },
    {
      "cell_type": "code",
      "execution_count": 16,
      "metadata": {
        "colab": {
          "base_uri": "https://localhost:8080/",
          "height": 237
        },
        "id": "me4iOm2ow9Yx",
        "outputId": "8c2ba921-f35a-4e1a-8bf1-fb7e3cbdefeb"
      },
      "outputs": [
        {
          "data": {
            "text/html": [
              "<div>\n",
              "<style scoped>\n",
              "    .dataframe tbody tr th:only-of-type {\n",
              "        vertical-align: middle;\n",
              "    }\n",
              "\n",
              "    .dataframe tbody tr th {\n",
              "        vertical-align: top;\n",
              "    }\n",
              "\n",
              "    .dataframe thead th {\n",
              "        text-align: right;\n",
              "    }\n",
              "</style>\n",
              "<table border=\"1\" class=\"dataframe\">\n",
              "  <thead>\n",
              "    <tr style=\"text-align: right;\">\n",
              "      <th></th>\n",
              "      <th>avg_rating</th>\n",
              "      <th>rating_count</th>\n",
              "    </tr>\n",
              "    <tr>\n",
              "      <th>ProductId</th>\n",
              "      <th></th>\n",
              "      <th></th>\n",
              "    </tr>\n",
              "  </thead>\n",
              "  <tbody>\n",
              "    <tr>\n",
              "      <th>0762451459</th>\n",
              "      <td>5.0</td>\n",
              "      <td>1</td>\n",
              "    </tr>\n",
              "    <tr>\n",
              "      <th>B004JAZGOC</th>\n",
              "      <td>5.0</td>\n",
              "      <td>1</td>\n",
              "    </tr>\n",
              "    <tr>\n",
              "      <th>B004ITB3IW</th>\n",
              "      <td>5.0</td>\n",
              "      <td>6</td>\n",
              "    </tr>\n",
              "    <tr>\n",
              "      <th>B004ITYX52</th>\n",
              "      <td>5.0</td>\n",
              "      <td>1</td>\n",
              "    </tr>\n",
              "    <tr>\n",
              "      <th>B004IVM0EG</th>\n",
              "      <td>5.0</td>\n",
              "      <td>1</td>\n",
              "    </tr>\n",
              "  </tbody>\n",
              "</table>\n",
              "</div>"
            ],
            "text/plain": [
              "            avg_rating  rating_count\n",
              "ProductId                           \n",
              "0762451459         5.0             1\n",
              "B004JAZGOC         5.0             1\n",
              "B004ITB3IW         5.0             6\n",
              "B004ITYX52         5.0             1\n",
              "B004IVM0EG         5.0             1"
            ]
          },
          "execution_count": 16,
          "metadata": {},
          "output_type": "execute_result"
        }
      ],
      "source": [
        "#Calculate the average rating for each product\n",
        "average_rating = df_final.groupby('ProductId').mean(numeric_only=True)['Rating']\n",
        "\n",
        "#Calculate the count of ratings for each product\n",
        "count_rating = df_final.groupby('ProductId').count()['Rating']\n",
        "\n",
        "#Create a dataframe with calculated average and count of ratings\n",
        "final_rating = pd.DataFrame({'avg_rating':average_rating, 'rating_count':count_rating})\n",
        "\n",
        "#Sort the dataframe by average of ratings\n",
        "final_rating = final_rating.sort_values(by='avg_rating',ascending=False)\n",
        "\n",
        "final_rating.head()"
      ]
    },
    {
      "cell_type": "code",
      "execution_count": 17,
      "metadata": {
        "id": "OhUAXTtgw-8Q"
      },
      "outputs": [],
      "source": [
        "#defining a function to get the top n products based on highest average rating and minimum interactions\n",
        "def top_n_products(final_rating, n, min_interaction):\n",
        "\n",
        "    #Finding products with minimum number of interactions\n",
        "    recommendations = final_rating[final_rating['rating_count']>min_interaction]\n",
        "\n",
        "    #Sorting values w.r.t average rating\n",
        "    recommendations = recommendations.sort_values('avg_rating',ascending=False)\n",
        "\n",
        "    return recommendations.index[:n]"
      ]
    },
    {
      "cell_type": "markdown",
      "metadata": {
        "id": "wem_XKyUxGEw"
      },
      "source": [
        "## Recommending top 5 products with 50 minimum interactions based on popularity"
      ]
    },
    {
      "cell_type": "code",
      "execution_count": 18,
      "metadata": {
        "colab": {
          "base_uri": "https://localhost:8080/"
        },
        "id": "5Tp7b5ByxCl4",
        "outputId": "030923b7-3903-45e1-dbb8-49c91dbeb65a"
      },
      "outputs": [
        {
          "data": {
            "text/plain": [
              "['B00AE0790U', 'B009FKNGGQ']"
            ]
          },
          "execution_count": 18,
          "metadata": {},
          "output_type": "execute_result"
        }
      ],
      "source": [
        "list(top_n_products(final_rating, 5, 50))"
      ]
    },
    {
      "cell_type": "markdown",
      "metadata": {
        "id": "1dMFKudcxJW5"
      },
      "source": [
        "## Recommending top 5 products with 100 minimum interactions based on popularity"
      ]
    },
    {
      "cell_type": "code",
      "execution_count": 19,
      "metadata": {
        "colab": {
          "base_uri": "https://localhost:8080/"
        },
        "id": "-3lUEc76xL_Y",
        "outputId": "a4e4ec84-a9b0-4900-a105-26c073637433"
      },
      "outputs": [
        {
          "data": {
            "text/plain": [
              "[]"
            ]
          },
          "execution_count": 19,
          "metadata": {},
          "output_type": "execute_result"
        }
      ],
      "source": [
        "list(top_n_products(final_rating, 5, 100))"
      ]
    },
    {
      "cell_type": "markdown",
      "metadata": {
        "id": "2ykt7MfyXw1d"
      },
      "source": [
        "# Collaborative Filtering based Recommendation System"
      ]
    },
    {
      "cell_type": "markdown",
      "metadata": {
        "id": "hXdPQ-0PcUVE"
      },
      "source": [
        "## User based collaborative filtering"
      ]
    },
    {
      "cell_type": "code",
      "execution_count": 20,
      "metadata": {
        "colab": {
          "base_uri": "https://localhost:8080/",
          "height": 331
        },
        "id": "jVP_TvuqX17T",
        "outputId": "974075eb-a07a-480a-fa2d-169b15c4bc1f"
      },
      "outputs": [
        {
          "data": {
            "text/html": [
              "<div>\n",
              "<style scoped>\n",
              "    .dataframe tbody tr th:only-of-type {\n",
              "        vertical-align: middle;\n",
              "    }\n",
              "\n",
              "    .dataframe tbody tr th {\n",
              "        vertical-align: top;\n",
              "    }\n",
              "\n",
              "    .dataframe thead th {\n",
              "        text-align: right;\n",
              "    }\n",
              "</style>\n",
              "<table border=\"1\" class=\"dataframe\">\n",
              "  <thead>\n",
              "    <tr style=\"text-align: right;\">\n",
              "      <th>ProductId</th>\n",
              "      <th>0762451459</th>\n",
              "      <th>1304482596</th>\n",
              "      <th>1304482685</th>\n",
              "      <th>1304495396</th>\n",
              "      <th>1304511111</th>\n",
              "      <th>1304511138</th>\n",
              "      <th>1304622665</th>\n",
              "      <th>1304624498</th>\n",
              "      <th>1304651029</th>\n",
              "      <th>130466578X</th>\n",
              "      <th>...</th>\n",
              "      <th>B00L3LB0IG</th>\n",
              "      <th>B00L3LBUGI</th>\n",
              "      <th>B00L4I5PJS</th>\n",
              "      <th>B00L5BXG36</th>\n",
              "      <th>B00L5KTZ0K</th>\n",
              "      <th>B00L7BX4FE</th>\n",
              "      <th>B00LG63DOM</th>\n",
              "      <th>B00LH81A0I</th>\n",
              "      <th>B00LLPT4HI</th>\n",
              "      <th>B00LMOT7X4</th>\n",
              "    </tr>\n",
              "    <tr>\n",
              "      <th>UserId</th>\n",
              "      <th></th>\n",
              "      <th></th>\n",
              "      <th></th>\n",
              "      <th></th>\n",
              "      <th></th>\n",
              "      <th></th>\n",
              "      <th></th>\n",
              "      <th></th>\n",
              "      <th></th>\n",
              "      <th></th>\n",
              "      <th></th>\n",
              "      <th></th>\n",
              "      <th></th>\n",
              "      <th></th>\n",
              "      <th></th>\n",
              "      <th></th>\n",
              "      <th></th>\n",
              "      <th></th>\n",
              "      <th></th>\n",
              "      <th></th>\n",
              "      <th></th>\n",
              "    </tr>\n",
              "  </thead>\n",
              "  <tbody>\n",
              "    <tr>\n",
              "      <th>A100WO06OQR8BQ</th>\n",
              "      <td>0.0</td>\n",
              "      <td>0.0</td>\n",
              "      <td>0.0</td>\n",
              "      <td>0.0</td>\n",
              "      <td>0.0</td>\n",
              "      <td>0.0</td>\n",
              "      <td>0.0</td>\n",
              "      <td>0.0</td>\n",
              "      <td>0.0</td>\n",
              "      <td>0.0</td>\n",
              "      <td>...</td>\n",
              "      <td>0.0</td>\n",
              "      <td>0.0</td>\n",
              "      <td>0.0</td>\n",
              "      <td>0.0</td>\n",
              "      <td>0.0</td>\n",
              "      <td>0.0</td>\n",
              "      <td>0.0</td>\n",
              "      <td>0.0</td>\n",
              "      <td>0.0</td>\n",
              "      <td>0.0</td>\n",
              "    </tr>\n",
              "    <tr>\n",
              "      <th>A1047EDJ84IMAS</th>\n",
              "      <td>0.0</td>\n",
              "      <td>0.0</td>\n",
              "      <td>0.0</td>\n",
              "      <td>0.0</td>\n",
              "      <td>0.0</td>\n",
              "      <td>0.0</td>\n",
              "      <td>0.0</td>\n",
              "      <td>0.0</td>\n",
              "      <td>0.0</td>\n",
              "      <td>0.0</td>\n",
              "      <td>...</td>\n",
              "      <td>0.0</td>\n",
              "      <td>0.0</td>\n",
              "      <td>0.0</td>\n",
              "      <td>0.0</td>\n",
              "      <td>0.0</td>\n",
              "      <td>0.0</td>\n",
              "      <td>0.0</td>\n",
              "      <td>0.0</td>\n",
              "      <td>0.0</td>\n",
              "      <td>0.0</td>\n",
              "    </tr>\n",
              "    <tr>\n",
              "      <th>A10G136JEISLVR</th>\n",
              "      <td>0.0</td>\n",
              "      <td>0.0</td>\n",
              "      <td>0.0</td>\n",
              "      <td>0.0</td>\n",
              "      <td>0.0</td>\n",
              "      <td>0.0</td>\n",
              "      <td>0.0</td>\n",
              "      <td>0.0</td>\n",
              "      <td>0.0</td>\n",
              "      <td>0.0</td>\n",
              "      <td>...</td>\n",
              "      <td>0.0</td>\n",
              "      <td>0.0</td>\n",
              "      <td>0.0</td>\n",
              "      <td>0.0</td>\n",
              "      <td>0.0</td>\n",
              "      <td>0.0</td>\n",
              "      <td>0.0</td>\n",
              "      <td>0.0</td>\n",
              "      <td>0.0</td>\n",
              "      <td>0.0</td>\n",
              "    </tr>\n",
              "    <tr>\n",
              "      <th>A10Y59HW4O47N0</th>\n",
              "      <td>0.0</td>\n",
              "      <td>0.0</td>\n",
              "      <td>0.0</td>\n",
              "      <td>0.0</td>\n",
              "      <td>0.0</td>\n",
              "      <td>0.0</td>\n",
              "      <td>0.0</td>\n",
              "      <td>0.0</td>\n",
              "      <td>0.0</td>\n",
              "      <td>0.0</td>\n",
              "      <td>...</td>\n",
              "      <td>0.0</td>\n",
              "      <td>0.0</td>\n",
              "      <td>0.0</td>\n",
              "      <td>0.0</td>\n",
              "      <td>0.0</td>\n",
              "      <td>0.0</td>\n",
              "      <td>0.0</td>\n",
              "      <td>0.0</td>\n",
              "      <td>0.0</td>\n",
              "      <td>0.0</td>\n",
              "    </tr>\n",
              "    <tr>\n",
              "      <th>A110PQTEI6THU7</th>\n",
              "      <td>0.0</td>\n",
              "      <td>0.0</td>\n",
              "      <td>0.0</td>\n",
              "      <td>0.0</td>\n",
              "      <td>0.0</td>\n",
              "      <td>0.0</td>\n",
              "      <td>0.0</td>\n",
              "      <td>0.0</td>\n",
              "      <td>0.0</td>\n",
              "      <td>0.0</td>\n",
              "      <td>...</td>\n",
              "      <td>0.0</td>\n",
              "      <td>0.0</td>\n",
              "      <td>0.0</td>\n",
              "      <td>0.0</td>\n",
              "      <td>0.0</td>\n",
              "      <td>0.0</td>\n",
              "      <td>0.0</td>\n",
              "      <td>0.0</td>\n",
              "      <td>0.0</td>\n",
              "      <td>0.0</td>\n",
              "    </tr>\n",
              "  </tbody>\n",
              "</table>\n",
              "<p>5 rows × 17228 columns</p>\n",
              "</div>"
            ],
            "text/plain": [
              "ProductId       0762451459  1304482596  1304482685  1304495396  1304511111  \\\n",
              "UserId                                                                       \n",
              "A100WO06OQR8BQ         0.0         0.0         0.0         0.0         0.0   \n",
              "A1047EDJ84IMAS         0.0         0.0         0.0         0.0         0.0   \n",
              "A10G136JEISLVR         0.0         0.0         0.0         0.0         0.0   \n",
              "A10Y59HW4O47N0         0.0         0.0         0.0         0.0         0.0   \n",
              "A110PQTEI6THU7         0.0         0.0         0.0         0.0         0.0   \n",
              "\n",
              "ProductId       1304511138  1304622665  1304624498  1304651029  130466578X  \\\n",
              "UserId                                                                       \n",
              "A100WO06OQR8BQ         0.0         0.0         0.0         0.0         0.0   \n",
              "A1047EDJ84IMAS         0.0         0.0         0.0         0.0         0.0   \n",
              "A10G136JEISLVR         0.0         0.0         0.0         0.0         0.0   \n",
              "A10Y59HW4O47N0         0.0         0.0         0.0         0.0         0.0   \n",
              "A110PQTEI6THU7         0.0         0.0         0.0         0.0         0.0   \n",
              "\n",
              "ProductId       ...  B00L3LB0IG  B00L3LBUGI  B00L4I5PJS  B00L5BXG36  \\\n",
              "UserId          ...                                                   \n",
              "A100WO06OQR8BQ  ...         0.0         0.0         0.0         0.0   \n",
              "A1047EDJ84IMAS  ...         0.0         0.0         0.0         0.0   \n",
              "A10G136JEISLVR  ...         0.0         0.0         0.0         0.0   \n",
              "A10Y59HW4O47N0  ...         0.0         0.0         0.0         0.0   \n",
              "A110PQTEI6THU7  ...         0.0         0.0         0.0         0.0   \n",
              "\n",
              "ProductId       B00L5KTZ0K  B00L7BX4FE  B00LG63DOM  B00LH81A0I  B00LLPT4HI  \\\n",
              "UserId                                                                       \n",
              "A100WO06OQR8BQ         0.0         0.0         0.0         0.0         0.0   \n",
              "A1047EDJ84IMAS         0.0         0.0         0.0         0.0         0.0   \n",
              "A10G136JEISLVR         0.0         0.0         0.0         0.0         0.0   \n",
              "A10Y59HW4O47N0         0.0         0.0         0.0         0.0         0.0   \n",
              "A110PQTEI6THU7         0.0         0.0         0.0         0.0         0.0   \n",
              "\n",
              "ProductId       B00LMOT7X4  \n",
              "UserId                      \n",
              "A100WO06OQR8BQ         0.0  \n",
              "A1047EDJ84IMAS         0.0  \n",
              "A10G136JEISLVR         0.0  \n",
              "A10Y59HW4O47N0         0.0  \n",
              "A110PQTEI6THU7         0.0  \n",
              "\n",
              "[5 rows x 17228 columns]"
            ]
          },
          "execution_count": 20,
          "metadata": {},
          "output_type": "execute_result"
        }
      ],
      "source": [
        "final_ratings_matrix.head()"
      ]
    },
    {
      "cell_type": "markdown",
      "metadata": {
        "id": "JVADHXQHX7_S"
      },
      "source": [
        "Here, UserId (index) is of the object data type. We will replace the user_id by numbers starting from 0 to 1539 (for all user ids) so that the index is of integer type and represents a user id in the same format"
      ]
    },
    {
      "cell_type": "code",
      "execution_count": 21,
      "metadata": {
        "colab": {
          "base_uri": "https://localhost:8080/",
          "height": 331
        },
        "id": "CFAS5YaPX9aD",
        "outputId": "a5f2ae4e-478b-410d-de10-2bfacc72134e"
      },
      "outputs": [
        {
          "data": {
            "text/html": [
              "<div>\n",
              "<style scoped>\n",
              "    .dataframe tbody tr th:only-of-type {\n",
              "        vertical-align: middle;\n",
              "    }\n",
              "\n",
              "    .dataframe tbody tr th {\n",
              "        vertical-align: top;\n",
              "    }\n",
              "\n",
              "    .dataframe thead th {\n",
              "        text-align: right;\n",
              "    }\n",
              "</style>\n",
              "<table border=\"1\" class=\"dataframe\">\n",
              "  <thead>\n",
              "    <tr style=\"text-align: right;\">\n",
              "      <th>ProductId</th>\n",
              "      <th>0762451459</th>\n",
              "      <th>1304482596</th>\n",
              "      <th>1304482685</th>\n",
              "      <th>1304495396</th>\n",
              "      <th>1304511111</th>\n",
              "      <th>1304511138</th>\n",
              "      <th>1304622665</th>\n",
              "      <th>1304624498</th>\n",
              "      <th>1304651029</th>\n",
              "      <th>130466578X</th>\n",
              "      <th>...</th>\n",
              "      <th>B00L3LB0IG</th>\n",
              "      <th>B00L3LBUGI</th>\n",
              "      <th>B00L4I5PJS</th>\n",
              "      <th>B00L5BXG36</th>\n",
              "      <th>B00L5KTZ0K</th>\n",
              "      <th>B00L7BX4FE</th>\n",
              "      <th>B00LG63DOM</th>\n",
              "      <th>B00LH81A0I</th>\n",
              "      <th>B00LLPT4HI</th>\n",
              "      <th>B00LMOT7X4</th>\n",
              "    </tr>\n",
              "    <tr>\n",
              "      <th>user_index</th>\n",
              "      <th></th>\n",
              "      <th></th>\n",
              "      <th></th>\n",
              "      <th></th>\n",
              "      <th></th>\n",
              "      <th></th>\n",
              "      <th></th>\n",
              "      <th></th>\n",
              "      <th></th>\n",
              "      <th></th>\n",
              "      <th></th>\n",
              "      <th></th>\n",
              "      <th></th>\n",
              "      <th></th>\n",
              "      <th></th>\n",
              "      <th></th>\n",
              "      <th></th>\n",
              "      <th></th>\n",
              "      <th></th>\n",
              "      <th></th>\n",
              "      <th></th>\n",
              "    </tr>\n",
              "  </thead>\n",
              "  <tbody>\n",
              "    <tr>\n",
              "      <th>0</th>\n",
              "      <td>0.0</td>\n",
              "      <td>0.0</td>\n",
              "      <td>0.0</td>\n",
              "      <td>0.0</td>\n",
              "      <td>0.0</td>\n",
              "      <td>0.0</td>\n",
              "      <td>0.0</td>\n",
              "      <td>0.0</td>\n",
              "      <td>0.0</td>\n",
              "      <td>0.0</td>\n",
              "      <td>...</td>\n",
              "      <td>0.0</td>\n",
              "      <td>0.0</td>\n",
              "      <td>0.0</td>\n",
              "      <td>0.0</td>\n",
              "      <td>0.0</td>\n",
              "      <td>0.0</td>\n",
              "      <td>0.0</td>\n",
              "      <td>0.0</td>\n",
              "      <td>0.0</td>\n",
              "      <td>0.0</td>\n",
              "    </tr>\n",
              "    <tr>\n",
              "      <th>1</th>\n",
              "      <td>0.0</td>\n",
              "      <td>0.0</td>\n",
              "      <td>0.0</td>\n",
              "      <td>0.0</td>\n",
              "      <td>0.0</td>\n",
              "      <td>0.0</td>\n",
              "      <td>0.0</td>\n",
              "      <td>0.0</td>\n",
              "      <td>0.0</td>\n",
              "      <td>0.0</td>\n",
              "      <td>...</td>\n",
              "      <td>0.0</td>\n",
              "      <td>0.0</td>\n",
              "      <td>0.0</td>\n",
              "      <td>0.0</td>\n",
              "      <td>0.0</td>\n",
              "      <td>0.0</td>\n",
              "      <td>0.0</td>\n",
              "      <td>0.0</td>\n",
              "      <td>0.0</td>\n",
              "      <td>0.0</td>\n",
              "    </tr>\n",
              "    <tr>\n",
              "      <th>2</th>\n",
              "      <td>0.0</td>\n",
              "      <td>0.0</td>\n",
              "      <td>0.0</td>\n",
              "      <td>0.0</td>\n",
              "      <td>0.0</td>\n",
              "      <td>0.0</td>\n",
              "      <td>0.0</td>\n",
              "      <td>0.0</td>\n",
              "      <td>0.0</td>\n",
              "      <td>0.0</td>\n",
              "      <td>...</td>\n",
              "      <td>0.0</td>\n",
              "      <td>0.0</td>\n",
              "      <td>0.0</td>\n",
              "      <td>0.0</td>\n",
              "      <td>0.0</td>\n",
              "      <td>0.0</td>\n",
              "      <td>0.0</td>\n",
              "      <td>0.0</td>\n",
              "      <td>0.0</td>\n",
              "      <td>0.0</td>\n",
              "    </tr>\n",
              "    <tr>\n",
              "      <th>3</th>\n",
              "      <td>0.0</td>\n",
              "      <td>0.0</td>\n",
              "      <td>0.0</td>\n",
              "      <td>0.0</td>\n",
              "      <td>0.0</td>\n",
              "      <td>0.0</td>\n",
              "      <td>0.0</td>\n",
              "      <td>0.0</td>\n",
              "      <td>0.0</td>\n",
              "      <td>0.0</td>\n",
              "      <td>...</td>\n",
              "      <td>0.0</td>\n",
              "      <td>0.0</td>\n",
              "      <td>0.0</td>\n",
              "      <td>0.0</td>\n",
              "      <td>0.0</td>\n",
              "      <td>0.0</td>\n",
              "      <td>0.0</td>\n",
              "      <td>0.0</td>\n",
              "      <td>0.0</td>\n",
              "      <td>0.0</td>\n",
              "    </tr>\n",
              "    <tr>\n",
              "      <th>4</th>\n",
              "      <td>0.0</td>\n",
              "      <td>0.0</td>\n",
              "      <td>0.0</td>\n",
              "      <td>0.0</td>\n",
              "      <td>0.0</td>\n",
              "      <td>0.0</td>\n",
              "      <td>0.0</td>\n",
              "      <td>0.0</td>\n",
              "      <td>0.0</td>\n",
              "      <td>0.0</td>\n",
              "      <td>...</td>\n",
              "      <td>0.0</td>\n",
              "      <td>0.0</td>\n",
              "      <td>0.0</td>\n",
              "      <td>0.0</td>\n",
              "      <td>0.0</td>\n",
              "      <td>0.0</td>\n",
              "      <td>0.0</td>\n",
              "      <td>0.0</td>\n",
              "      <td>0.0</td>\n",
              "      <td>0.0</td>\n",
              "    </tr>\n",
              "  </tbody>\n",
              "</table>\n",
              "<p>5 rows × 17228 columns</p>\n",
              "</div>"
            ],
            "text/plain": [
              "ProductId   0762451459  1304482596  1304482685  1304495396  1304511111  \\\n",
              "user_index                                                               \n",
              "0                  0.0         0.0         0.0         0.0         0.0   \n",
              "1                  0.0         0.0         0.0         0.0         0.0   \n",
              "2                  0.0         0.0         0.0         0.0         0.0   \n",
              "3                  0.0         0.0         0.0         0.0         0.0   \n",
              "4                  0.0         0.0         0.0         0.0         0.0   \n",
              "\n",
              "ProductId   1304511138  1304622665  1304624498  1304651029  130466578X  ...  \\\n",
              "user_index                                                              ...   \n",
              "0                  0.0         0.0         0.0         0.0         0.0  ...   \n",
              "1                  0.0         0.0         0.0         0.0         0.0  ...   \n",
              "2                  0.0         0.0         0.0         0.0         0.0  ...   \n",
              "3                  0.0         0.0         0.0         0.0         0.0  ...   \n",
              "4                  0.0         0.0         0.0         0.0         0.0  ...   \n",
              "\n",
              "ProductId   B00L3LB0IG  B00L3LBUGI  B00L4I5PJS  B00L5BXG36  B00L5KTZ0K  \\\n",
              "user_index                                                               \n",
              "0                  0.0         0.0         0.0         0.0         0.0   \n",
              "1                  0.0         0.0         0.0         0.0         0.0   \n",
              "2                  0.0         0.0         0.0         0.0         0.0   \n",
              "3                  0.0         0.0         0.0         0.0         0.0   \n",
              "4                  0.0         0.0         0.0         0.0         0.0   \n",
              "\n",
              "ProductId   B00L7BX4FE  B00LG63DOM  B00LH81A0I  B00LLPT4HI  B00LMOT7X4  \n",
              "user_index                                                              \n",
              "0                  0.0         0.0         0.0         0.0         0.0  \n",
              "1                  0.0         0.0         0.0         0.0         0.0  \n",
              "2                  0.0         0.0         0.0         0.0         0.0  \n",
              "3                  0.0         0.0         0.0         0.0         0.0  \n",
              "4                  0.0         0.0         0.0         0.0         0.0  \n",
              "\n",
              "[5 rows x 17228 columns]"
            ]
          },
          "execution_count": 21,
          "metadata": {},
          "output_type": "execute_result"
        }
      ],
      "source": [
        "final_ratings_matrix['user_index'] = np.arange(0, final_ratings_matrix.shape[0])\n",
        "final_ratings_matrix.set_index(['user_index'], inplace=True)\n",
        "\n",
        "# Actual ratings given by users\n",
        "final_ratings_matrix.head()"
      ]
    },
    {
      "cell_type": "markdown",
      "metadata": {
        "id": "XF4rlGcsb8-D"
      },
      "source": [
        "### Function to find Similar users and their similarity scores"
      ]
    },
    {
      "cell_type": "code",
      "execution_count": 58,
      "metadata": {
        "id": "OlJyXfxTX_I7"
      },
      "outputs": [],
      "source": [
        "# Defining a function to get similar users\n",
        "def similar_users(user_index, interactions_matrix):\n",
        "    similarity = []\n",
        "    for user in range(0, interactions_matrix.shape[0]): #  .shape[0] gives number of rows\n",
        "\n",
        "        # Finding cosine similarity between the user_id and each user\n",
        "        sim = cosine_similarity([interactions_matrix.iloc[user_index]], [interactions_matrix.iloc[user]])\n",
        "\n",
        "        # Appending the user and the corresponding similarity score with user_id as a tuple\n",
        "        similarity.append((user,sim))\n",
        "\n",
        "    similarity.sort(key=lambda x: x[1], reverse=True)\n",
        "    most_similar_users = [tup[0] for tup in similarity] #Extract the user from each tuple in the sorted list\n",
        "    similarity_score = [tup[1] for tup in similarity] ##Extracting the similarity score from each tuple in the sorted list\n",
        "\n",
        "    # Remove the original user and its similarity score and keep only other similar users\n",
        "    most_similar_users.remove(user_index)\n",
        "    similarity_score.remove(similarity_score[0])\n",
        "\n",
        "    return most_similar_users, similarity_score"
      ]
    },
    {
      "cell_type": "markdown",
      "metadata": {
        "id": "t8YQa3aSYDQc"
      },
      "source": [
        "#### Finding out top 10 similar users to the user index 1 and their similarity score"
      ]
    },
    {
      "cell_type": "code",
      "execution_count": 60,
      "metadata": {
        "colab": {
          "base_uri": "https://localhost:8080/"
        },
        "id": "BevLPijqYFYK",
        "outputId": "1d04cdab-d446-4726-b85b-99eb2f94a316"
      },
      "outputs": [
        {
          "data": {
            "text/plain": [
              "[126, 72, 30, 323, 272, 239, 163, 44, 214, 308]"
            ]
          },
          "execution_count": 60,
          "metadata": {},
          "output_type": "execute_result"
        }
      ],
      "source": [
        "similar = similar_users(1, final_ratings_matrix)[0][0:10]\n",
        "similar"
      ]
    },
    {
      "cell_type": "code",
      "execution_count": 61,
      "metadata": {
        "colab": {
          "base_uri": "https://localhost:8080/"
        },
        "id": "GbbgcMaKYJXz",
        "outputId": "e1c5e877-d8a0-4f92-fdec-af4562542c17"
      },
      "outputs": [
        {
          "data": {
            "text/plain": [
              "[array([[0.05930774]]),\n",
              " array([[0.04092788]]),\n",
              " array([[0.03999809]]),\n",
              " array([[0.03507881]]),\n",
              " array([[0.034761]]),\n",
              " array([[0.03473375]]),\n",
              " array([[0.03357002]]),\n",
              " array([[0.03054464]]),\n",
              " array([[0.02930463]]),\n",
              " array([[0.0287997]])]"
            ]
          },
          "execution_count": 61,
          "metadata": {},
          "output_type": "execute_result"
        }
      ],
      "source": [
        "#Print the similarity score\n",
        "similar_users(1,final_ratings_matrix)[1][0:10]"
      ]
    },
    {
      "cell_type": "markdown",
      "metadata": {
        "id": "ozHlmOBmYHeT"
      },
      "source": [
        "#### Finding out top 10 similar users to the user index 360 and their similarity score"
      ]
    },
    {
      "cell_type": "code",
      "execution_count": 62,
      "metadata": {
        "colab": {
          "base_uri": "https://localhost:8080/"
        },
        "id": "S8JFRg9XYPE8",
        "outputId": "66801699-abb6-4da2-8c2d-86a3ccf6917c"
      },
      "outputs": [
        {
          "data": {
            "text/plain": [
              "[57, 42, 226, 109, 24, 353, 89, 115, 182, 332]"
            ]
          },
          "execution_count": 62,
          "metadata": {},
          "output_type": "execute_result"
        }
      ],
      "source": [
        "similar = similar_users(360, final_ratings_matrix)[0][0:10]\n",
        "similar"
      ]
    },
    {
      "cell_type": "code",
      "execution_count": 63,
      "metadata": {
        "colab": {
          "base_uri": "https://localhost:8080/"
        },
        "id": "tsnilvK-YTST",
        "outputId": "58afdd6c-1f95-481a-94d9-1ef9269e7cc0"
      },
      "outputs": [
        {
          "data": {
            "text/plain": [
              "[array([[0.05777213]]),\n",
              " array([[0.05649702]]),\n",
              " array([[0.05320896]]),\n",
              " array([[0.05301885]]),\n",
              " array([[0.05197873]]),\n",
              " array([[0.03735104]]),\n",
              " array([[0.03655981]]),\n",
              " array([[0.03635538]]),\n",
              " array([[0.03371071]]),\n",
              " array([[0.03275497]])]"
            ]
          },
          "execution_count": 63,
          "metadata": {},
          "output_type": "execute_result"
        }
      ],
      "source": [
        "#Print the similarity score\n",
        "similar_users(360,final_ratings_matrix)[1][0:10]"
      ]
    },
    {
      "cell_type": "markdown",
      "metadata": {
        "id": "qXSJzV0EcFcC"
      },
      "source": [
        "### Function to recommend products"
      ]
    },
    {
      "cell_type": "code",
      "execution_count": 64,
      "metadata": {
        "id": "uq6Wzl1kYX3U"
      },
      "outputs": [],
      "source": [
        "def recommendations(user_index, num_of_products, interactions_matrix):\n",
        "    # Save similar users using the modified similar_users function\n",
        "    most_similar_users = similar_users(user_index, interactions_matrix)[0]\n",
        "\n",
        "    # Finding product IDs with which the user has interacted\n",
        "    # Using np.where with iloc for safer indexing\n",
        "    user_interactions = interactions_matrix.iloc[user_index] > 0\n",
        "    prod_ids = set(interactions_matrix.columns[user_interactions])\n",
        "\n",
        "    recommendations = []\n",
        "    observed_interactions = prod_ids.copy()\n",
        "\n",
        "    for similar_user in most_similar_users:\n",
        "        if len(recommendations) < num_of_products:\n",
        "            # Finding products rated by similar users but not by the target user\n",
        "            similar_user_interactions = interactions_matrix.iloc[similar_user] > 0\n",
        "            similar_user_prod_ids = set(interactions_matrix.columns[similar_user_interactions])\n",
        "            recommendations.extend(list(similar_user_prod_ids.difference(observed_interactions)))\n",
        "\n",
        "            # Update observed interactions\n",
        "            observed_interactions.update(similar_user_prod_ids)\n",
        "        else:\n",
        "            break\n",
        "\n",
        "    return recommendations[:num_of_products]"
      ]
    },
    {
      "cell_type": "markdown",
      "metadata": {
        "id": "p6IzV6fTYbhW"
      },
      "source": [
        "#### Recommend 5 products to user index 3 based on similarity based collaborative filtering"
      ]
    },
    {
      "cell_type": "code",
      "execution_count": 65,
      "metadata": {
        "colab": {
          "base_uri": "https://localhost:8080/"
        },
        "id": "KBF7-RKIYcVL",
        "outputId": "38957d77-0e8e-419a-e958-2e4e835d49ed"
      },
      "outputs": [
        {
          "data": {
            "text/plain": [
              "['B000AO2NXS', 'B008UVO5DY', 'B00AACBZMA', 'B004NFTGA8', 'B004S6BXLW']"
            ]
          },
          "execution_count": 65,
          "metadata": {},
          "output_type": "execute_result"
        }
      ],
      "source": [
        "recommendations(3,5,final_ratings_matrix)"
      ]
    },
    {
      "cell_type": "markdown",
      "metadata": {
        "id": "pNxqmWlAYoiK"
      },
      "source": [
        "#### Recommend 5 products to user index 360 based on similarity based collaborative filtering"
      ]
    },
    {
      "cell_type": "code",
      "execution_count": 66,
      "metadata": {
        "colab": {
          "base_uri": "https://localhost:8080/"
        },
        "id": "Gs0zuFFQYpQi",
        "outputId": "319dcde7-75fd-4978-f790-3e2fc9cff683"
      },
      "outputs": [
        {
          "data": {
            "text/plain": [
              "['B004BCT7G6', 'B000HZ9K3G', 'B0068G8DTA', 'B006UETDGC', 'B002LA1D9Y']"
            ]
          },
          "execution_count": 66,
          "metadata": {},
          "output_type": "execute_result"
        }
      ],
      "source": [
        "recommendations(360,5,final_ratings_matrix)"
      ]
    },
    {
      "cell_type": "markdown",
      "metadata": {
        "id": "B9fOdRwUdbKa"
      },
      "source": [
        "# Model based Collaborative Filtering: Singular Value Decomposition\n",
        "\n",
        "**We have seen above that the interaction matrix is highly sparse. SVD is best to apply on a large sparse matrix. Note that for sparse matrices, we can use the sparse.linalg.svds() function to perform the decomposition**\n",
        "\n",
        "Also, we will use **k=50 latent features** to predict rating of products"
      ]
    },
    {
      "cell_type": "markdown",
      "metadata": {
        "id": "RXgHZdNYmoKD"
      },
      "source": [
        "## CSR matrix"
      ]
    },
    {
      "cell_type": "code",
      "execution_count": 67,
      "metadata": {
        "id": "6yHPX6rkfeY8"
      },
      "outputs": [],
      "source": [
        "from scipy.sparse import csr_matrix\n",
        "final_ratings_sparse = csr_matrix(final_ratings_matrix.values)\n"
      ]
    },
    {
      "cell_type": "markdown",
      "metadata": {
        "id": "K2oQ3Fjlmrs7"
      },
      "source": [
        "## SVD"
      ]
    },
    {
      "cell_type": "code",
      "execution_count": 68,
      "metadata": {
        "id": "D8BDZzhXdhKa"
      },
      "outputs": [],
      "source": [
        "# Singular Value Decomposition\n",
        "U, s, Vt = svds(final_ratings_sparse, k = 50) # here k is the number of latent features\n",
        "\n",
        "# Construct diagonal array in SVD\n",
        "sigma = np.diag(s)"
      ]
    },
    {
      "cell_type": "code",
      "execution_count": 69,
      "metadata": {
        "colab": {
          "base_uri": "https://localhost:8080/"
        },
        "id": "IqVjx_ebfkZD",
        "outputId": "412703cf-e6c6-4322-d1e3-5e45d2a27957"
      },
      "outputs": [
        {
          "data": {
            "text/plain": [
              "(361, 50)"
            ]
          },
          "execution_count": 69,
          "metadata": {},
          "output_type": "execute_result"
        }
      ],
      "source": [
        "U.shape"
      ]
    },
    {
      "cell_type": "code",
      "execution_count": 70,
      "metadata": {
        "colab": {
          "base_uri": "https://localhost:8080/"
        },
        "id": "i0pbUMYXfnvq",
        "outputId": "af7129f1-371e-454e-80dc-66f960870ef9"
      },
      "outputs": [
        {
          "data": {
            "text/plain": [
              "(50, 50)"
            ]
          },
          "execution_count": 70,
          "metadata": {},
          "output_type": "execute_result"
        }
      ],
      "source": [
        "sigma.shape"
      ]
    },
    {
      "cell_type": "code",
      "execution_count": 71,
      "metadata": {
        "colab": {
          "base_uri": "https://localhost:8080/"
        },
        "id": "9eK_VGtwfoRJ",
        "outputId": "9d84b451-249f-4951-9f17-354e3178da9d"
      },
      "outputs": [
        {
          "data": {
            "text/plain": [
              "(50, 17228)"
            ]
          },
          "execution_count": 71,
          "metadata": {},
          "output_type": "execute_result"
        }
      ],
      "source": [
        "Vt.shape"
      ]
    },
    {
      "cell_type": "markdown",
      "metadata": {
        "id": "FSE_KKudftuk"
      },
      "source": [
        "Now, let's regenerate the original matrix using U, Sigma, and Vt matrices. The resulting matrix would be the predicted ratings for all users and products"
      ]
    },
    {
      "cell_type": "markdown",
      "metadata": {
        "id": "BVnvgQkwmvfL"
      },
      "source": [
        "## Predicting ratings"
      ]
    },
    {
      "cell_type": "code",
      "execution_count": 86,
      "metadata": {
        "id": "hURsS2H3fuby"
      },
      "outputs": [
        {
          "data": {
            "text/html": [
              "<div>\n",
              "<style scoped>\n",
              "    .dataframe tbody tr th:only-of-type {\n",
              "        vertical-align: middle;\n",
              "    }\n",
              "\n",
              "    .dataframe tbody tr th {\n",
              "        vertical-align: top;\n",
              "    }\n",
              "\n",
              "    .dataframe thead th {\n",
              "        text-align: right;\n",
              "    }\n",
              "</style>\n",
              "<table border=\"1\" class=\"dataframe\">\n",
              "  <thead>\n",
              "    <tr style=\"text-align: right;\">\n",
              "      <th>ProductId</th>\n",
              "      <th>0762451459</th>\n",
              "      <th>1304482596</th>\n",
              "      <th>1304482685</th>\n",
              "      <th>1304495396</th>\n",
              "      <th>1304511111</th>\n",
              "      <th>1304511138</th>\n",
              "      <th>1304622665</th>\n",
              "      <th>1304624498</th>\n",
              "      <th>1304651029</th>\n",
              "      <th>130466578X</th>\n",
              "      <th>...</th>\n",
              "      <th>B00L3LB0IG</th>\n",
              "      <th>B00L3LBUGI</th>\n",
              "      <th>B00L4I5PJS</th>\n",
              "      <th>B00L5BXG36</th>\n",
              "      <th>B00L5KTZ0K</th>\n",
              "      <th>B00L7BX4FE</th>\n",
              "      <th>B00LG63DOM</th>\n",
              "      <th>B00LH81A0I</th>\n",
              "      <th>B00LLPT4HI</th>\n",
              "      <th>B00LMOT7X4</th>\n",
              "    </tr>\n",
              "  </thead>\n",
              "  <tbody>\n",
              "    <tr>\n",
              "      <th>0</th>\n",
              "      <td>0.047090</td>\n",
              "      <td>0.000124</td>\n",
              "      <td>0.000124</td>\n",
              "      <td>0.000124</td>\n",
              "      <td>0.000124</td>\n",
              "      <td>0.000124</td>\n",
              "      <td>0.000124</td>\n",
              "      <td>0.000124</td>\n",
              "      <td>0.000124</td>\n",
              "      <td>0.000124</td>\n",
              "      <td>...</td>\n",
              "      <td>0.015907</td>\n",
              "      <td>0.015907</td>\n",
              "      <td>1.426274e-02</td>\n",
              "      <td>0.039624</td>\n",
              "      <td>0.031367</td>\n",
              "      <td>0.023621</td>\n",
              "      <td>0.015907</td>\n",
              "      <td>0.007613</td>\n",
              "      <td>0.100581</td>\n",
              "      <td>0.011551</td>\n",
              "    </tr>\n",
              "    <tr>\n",
              "      <th>1</th>\n",
              "      <td>0.000417</td>\n",
              "      <td>0.000071</td>\n",
              "      <td>0.000071</td>\n",
              "      <td>0.000071</td>\n",
              "      <td>0.000071</td>\n",
              "      <td>0.000071</td>\n",
              "      <td>0.000071</td>\n",
              "      <td>0.000071</td>\n",
              "      <td>0.000071</td>\n",
              "      <td>0.000071</td>\n",
              "      <td>...</td>\n",
              "      <td>0.001455</td>\n",
              "      <td>0.001455</td>\n",
              "      <td>4.574687e-03</td>\n",
              "      <td>0.024927</td>\n",
              "      <td>0.002310</td>\n",
              "      <td>0.114070</td>\n",
              "      <td>0.001455</td>\n",
              "      <td>0.000406</td>\n",
              "      <td>0.028418</td>\n",
              "      <td>0.011666</td>\n",
              "    </tr>\n",
              "    <tr>\n",
              "      <th>2</th>\n",
              "      <td>0.004305</td>\n",
              "      <td>0.000128</td>\n",
              "      <td>0.000128</td>\n",
              "      <td>0.000128</td>\n",
              "      <td>0.000128</td>\n",
              "      <td>0.000128</td>\n",
              "      <td>0.000128</td>\n",
              "      <td>0.000128</td>\n",
              "      <td>0.000128</td>\n",
              "      <td>0.000128</td>\n",
              "      <td>...</td>\n",
              "      <td>0.001272</td>\n",
              "      <td>0.001272</td>\n",
              "      <td>9.245031e-03</td>\n",
              "      <td>0.010621</td>\n",
              "      <td>0.002462</td>\n",
              "      <td>0.002917</td>\n",
              "      <td>0.001272</td>\n",
              "      <td>0.007446</td>\n",
              "      <td>0.008230</td>\n",
              "      <td>0.021596</td>\n",
              "    </tr>\n",
              "    <tr>\n",
              "      <th>3</th>\n",
              "      <td>0.000094</td>\n",
              "      <td>0.000002</td>\n",
              "      <td>0.000002</td>\n",
              "      <td>0.000002</td>\n",
              "      <td>0.000002</td>\n",
              "      <td>0.000002</td>\n",
              "      <td>0.000002</td>\n",
              "      <td>0.000002</td>\n",
              "      <td>0.000002</td>\n",
              "      <td>0.000002</td>\n",
              "      <td>...</td>\n",
              "      <td>0.000119</td>\n",
              "      <td>0.000119</td>\n",
              "      <td>7.511873e-07</td>\n",
              "      <td>0.000021</td>\n",
              "      <td>0.000225</td>\n",
              "      <td>0.000218</td>\n",
              "      <td>0.000119</td>\n",
              "      <td>0.000432</td>\n",
              "      <td>0.000316</td>\n",
              "      <td>0.000302</td>\n",
              "    </tr>\n",
              "    <tr>\n",
              "      <th>4</th>\n",
              "      <td>0.011773</td>\n",
              "      <td>0.000171</td>\n",
              "      <td>0.000171</td>\n",
              "      <td>0.000171</td>\n",
              "      <td>0.000171</td>\n",
              "      <td>0.000171</td>\n",
              "      <td>0.000171</td>\n",
              "      <td>0.000171</td>\n",
              "      <td>0.000171</td>\n",
              "      <td>0.000171</td>\n",
              "      <td>...</td>\n",
              "      <td>0.000615</td>\n",
              "      <td>0.000615</td>\n",
              "      <td>2.893702e-03</td>\n",
              "      <td>0.014905</td>\n",
              "      <td>0.001234</td>\n",
              "      <td>0.009558</td>\n",
              "      <td>0.000615</td>\n",
              "      <td>0.002654</td>\n",
              "      <td>0.016044</td>\n",
              "      <td>0.010468</td>\n",
              "    </tr>\n",
              "    <tr>\n",
              "      <th>...</th>\n",
              "      <td>...</td>\n",
              "      <td>...</td>\n",
              "      <td>...</td>\n",
              "      <td>...</td>\n",
              "      <td>...</td>\n",
              "      <td>...</td>\n",
              "      <td>...</td>\n",
              "      <td>...</td>\n",
              "      <td>...</td>\n",
              "      <td>...</td>\n",
              "      <td>...</td>\n",
              "      <td>...</td>\n",
              "      <td>...</td>\n",
              "      <td>...</td>\n",
              "      <td>...</td>\n",
              "      <td>...</td>\n",
              "      <td>...</td>\n",
              "      <td>...</td>\n",
              "      <td>...</td>\n",
              "      <td>...</td>\n",
              "      <td>...</td>\n",
              "    </tr>\n",
              "    <tr>\n",
              "      <th>356</th>\n",
              "      <td>0.008739</td>\n",
              "      <td>0.000063</td>\n",
              "      <td>0.000063</td>\n",
              "      <td>0.000063</td>\n",
              "      <td>0.000063</td>\n",
              "      <td>0.000063</td>\n",
              "      <td>0.000063</td>\n",
              "      <td>0.000063</td>\n",
              "      <td>0.000063</td>\n",
              "      <td>0.000063</td>\n",
              "      <td>...</td>\n",
              "      <td>0.000255</td>\n",
              "      <td>0.000255</td>\n",
              "      <td>1.965799e-02</td>\n",
              "      <td>0.010638</td>\n",
              "      <td>0.000444</td>\n",
              "      <td>0.038776</td>\n",
              "      <td>0.000255</td>\n",
              "      <td>0.000711</td>\n",
              "      <td>0.014333</td>\n",
              "      <td>0.011379</td>\n",
              "    </tr>\n",
              "    <tr>\n",
              "      <th>357</th>\n",
              "      <td>0.013831</td>\n",
              "      <td>0.000004</td>\n",
              "      <td>0.000004</td>\n",
              "      <td>0.000004</td>\n",
              "      <td>0.000004</td>\n",
              "      <td>0.000004</td>\n",
              "      <td>0.000004</td>\n",
              "      <td>0.000004</td>\n",
              "      <td>0.000004</td>\n",
              "      <td>0.000004</td>\n",
              "      <td>...</td>\n",
              "      <td>0.023049</td>\n",
              "      <td>0.023049</td>\n",
              "      <td>1.994530e-01</td>\n",
              "      <td>0.657957</td>\n",
              "      <td>0.041853</td>\n",
              "      <td>0.036075</td>\n",
              "      <td>0.023049</td>\n",
              "      <td>0.005746</td>\n",
              "      <td>0.535951</td>\n",
              "      <td>0.002318</td>\n",
              "    </tr>\n",
              "    <tr>\n",
              "      <th>358</th>\n",
              "      <td>0.030802</td>\n",
              "      <td>0.000346</td>\n",
              "      <td>0.000346</td>\n",
              "      <td>0.000346</td>\n",
              "      <td>0.000346</td>\n",
              "      <td>0.000346</td>\n",
              "      <td>0.000346</td>\n",
              "      <td>0.000346</td>\n",
              "      <td>0.000346</td>\n",
              "      <td>0.000346</td>\n",
              "      <td>...</td>\n",
              "      <td>0.005789</td>\n",
              "      <td>0.005789</td>\n",
              "      <td>1.723939e-02</td>\n",
              "      <td>0.033548</td>\n",
              "      <td>0.011656</td>\n",
              "      <td>0.021254</td>\n",
              "      <td>0.005789</td>\n",
              "      <td>0.049421</td>\n",
              "      <td>0.014373</td>\n",
              "      <td>0.030115</td>\n",
              "    </tr>\n",
              "    <tr>\n",
              "      <th>359</th>\n",
              "      <td>0.025005</td>\n",
              "      <td>0.000060</td>\n",
              "      <td>0.000060</td>\n",
              "      <td>0.000060</td>\n",
              "      <td>0.000060</td>\n",
              "      <td>0.000060</td>\n",
              "      <td>0.000060</td>\n",
              "      <td>0.000060</td>\n",
              "      <td>0.000060</td>\n",
              "      <td>0.000060</td>\n",
              "      <td>...</td>\n",
              "      <td>0.001754</td>\n",
              "      <td>0.001754</td>\n",
              "      <td>2.137811e-02</td>\n",
              "      <td>0.096937</td>\n",
              "      <td>0.002387</td>\n",
              "      <td>0.047455</td>\n",
              "      <td>0.001754</td>\n",
              "      <td>0.001803</td>\n",
              "      <td>0.009459</td>\n",
              "      <td>0.064155</td>\n",
              "    </tr>\n",
              "    <tr>\n",
              "      <th>360</th>\n",
              "      <td>0.032707</td>\n",
              "      <td>0.000108</td>\n",
              "      <td>0.000108</td>\n",
              "      <td>0.000108</td>\n",
              "      <td>0.000108</td>\n",
              "      <td>0.000108</td>\n",
              "      <td>0.000108</td>\n",
              "      <td>0.000108</td>\n",
              "      <td>0.000108</td>\n",
              "      <td>0.000108</td>\n",
              "      <td>...</td>\n",
              "      <td>0.003513</td>\n",
              "      <td>0.003513</td>\n",
              "      <td>3.104185e-02</td>\n",
              "      <td>0.002960</td>\n",
              "      <td>0.004812</td>\n",
              "      <td>0.056827</td>\n",
              "      <td>0.003513</td>\n",
              "      <td>0.029894</td>\n",
              "      <td>0.022713</td>\n",
              "      <td>2.827399</td>\n",
              "    </tr>\n",
              "  </tbody>\n",
              "</table>\n",
              "<p>361 rows × 17228 columns</p>\n",
              "</div>"
            ],
            "text/plain": [
              "ProductId  0762451459  1304482596  1304482685  1304495396  1304511111  \\\n",
              "0            0.047090    0.000124    0.000124    0.000124    0.000124   \n",
              "1            0.000417    0.000071    0.000071    0.000071    0.000071   \n",
              "2            0.004305    0.000128    0.000128    0.000128    0.000128   \n",
              "3            0.000094    0.000002    0.000002    0.000002    0.000002   \n",
              "4            0.011773    0.000171    0.000171    0.000171    0.000171   \n",
              "..                ...         ...         ...         ...         ...   \n",
              "356          0.008739    0.000063    0.000063    0.000063    0.000063   \n",
              "357          0.013831    0.000004    0.000004    0.000004    0.000004   \n",
              "358          0.030802    0.000346    0.000346    0.000346    0.000346   \n",
              "359          0.025005    0.000060    0.000060    0.000060    0.000060   \n",
              "360          0.032707    0.000108    0.000108    0.000108    0.000108   \n",
              "\n",
              "ProductId  1304511138  1304622665  1304624498  1304651029  130466578X  ...  \\\n",
              "0            0.000124    0.000124    0.000124    0.000124    0.000124  ...   \n",
              "1            0.000071    0.000071    0.000071    0.000071    0.000071  ...   \n",
              "2            0.000128    0.000128    0.000128    0.000128    0.000128  ...   \n",
              "3            0.000002    0.000002    0.000002    0.000002    0.000002  ...   \n",
              "4            0.000171    0.000171    0.000171    0.000171    0.000171  ...   \n",
              "..                ...         ...         ...         ...         ...  ...   \n",
              "356          0.000063    0.000063    0.000063    0.000063    0.000063  ...   \n",
              "357          0.000004    0.000004    0.000004    0.000004    0.000004  ...   \n",
              "358          0.000346    0.000346    0.000346    0.000346    0.000346  ...   \n",
              "359          0.000060    0.000060    0.000060    0.000060    0.000060  ...   \n",
              "360          0.000108    0.000108    0.000108    0.000108    0.000108  ...   \n",
              "\n",
              "ProductId  B00L3LB0IG  B00L3LBUGI    B00L4I5PJS  B00L5BXG36  B00L5KTZ0K  \\\n",
              "0            0.015907    0.015907  1.426274e-02    0.039624    0.031367   \n",
              "1            0.001455    0.001455  4.574687e-03    0.024927    0.002310   \n",
              "2            0.001272    0.001272  9.245031e-03    0.010621    0.002462   \n",
              "3            0.000119    0.000119  7.511873e-07    0.000021    0.000225   \n",
              "4            0.000615    0.000615  2.893702e-03    0.014905    0.001234   \n",
              "..                ...         ...           ...         ...         ...   \n",
              "356          0.000255    0.000255  1.965799e-02    0.010638    0.000444   \n",
              "357          0.023049    0.023049  1.994530e-01    0.657957    0.041853   \n",
              "358          0.005789    0.005789  1.723939e-02    0.033548    0.011656   \n",
              "359          0.001754    0.001754  2.137811e-02    0.096937    0.002387   \n",
              "360          0.003513    0.003513  3.104185e-02    0.002960    0.004812   \n",
              "\n",
              "ProductId  B00L7BX4FE  B00LG63DOM  B00LH81A0I  B00LLPT4HI  B00LMOT7X4  \n",
              "0            0.023621    0.015907    0.007613    0.100581    0.011551  \n",
              "1            0.114070    0.001455    0.000406    0.028418    0.011666  \n",
              "2            0.002917    0.001272    0.007446    0.008230    0.021596  \n",
              "3            0.000218    0.000119    0.000432    0.000316    0.000302  \n",
              "4            0.009558    0.000615    0.002654    0.016044    0.010468  \n",
              "..                ...         ...         ...         ...         ...  \n",
              "356          0.038776    0.000255    0.000711    0.014333    0.011379  \n",
              "357          0.036075    0.023049    0.005746    0.535951    0.002318  \n",
              "358          0.021254    0.005789    0.049421    0.014373    0.030115  \n",
              "359          0.047455    0.001754    0.001803    0.009459    0.064155  \n",
              "360          0.056827    0.003513    0.029894    0.022713    2.827399  \n",
              "\n",
              "[361 rows x 17228 columns]"
            ]
          },
          "execution_count": 86,
          "metadata": {},
          "output_type": "execute_result"
        }
      ],
      "source": [
        "all_user_predicted_ratings = np.dot(np.dot(U, sigma), Vt)\n",
        "\n",
        "# Predicted ratings\n",
        "preds_df = pd.DataFrame(abs(all_user_predicted_ratings), columns = final_ratings_matrix.columns)\n",
        "preds_df"
      ]
    },
    {
      "cell_type": "code",
      "execution_count": 83,
      "metadata": {},
      "outputs": [
        {
          "data": {
            "text/plain": [
              "<361x17228 sparse matrix of type '<class 'numpy.float64'>'\n",
              "\twith 6219308 stored elements in Compressed Sparse Row format>"
            ]
          },
          "execution_count": 83,
          "metadata": {},
          "output_type": "execute_result"
        }
      ],
      "source": [
        "preds_matrix = csr_matrix(preds_df.values)"
      ]
    },
    {
      "cell_type": "markdown",
      "metadata": {
        "id": "jRS4Fndbfx-c"
      },
      "source": [
        "## Function to recommend products"
      ]
    },
    {
      "cell_type": "code",
      "execution_count": 73,
      "metadata": {
        "id": "IMI2d1sXiILL"
      },
      "outputs": [],
      "source": [
        "import numpy as np\n",
        "\n",
        "def recommend_items(user_index, interactions_matrix, preds_matrix, num_recommendations):\n",
        "\n",
        "    # Get the user's ratings from the actual and predicted interaction matrices\n",
        "    user_ratings = interactions_matrix[user_index,:].toarray().reshape(-1)\n",
        "    user_predictions = preds_matrix[user_index,:].toarray().reshape(-1)\n",
        "\n",
        "    #Creating a dataframe with actual and predicted ratings columns\n",
        "    temp = pd.DataFrame({'user_ratings': user_ratings, 'user_predictions': user_predictions})\n",
        "    temp['Recommended Products'] = np.arange(len(user_ratings))\n",
        "    temp = temp.set_index('Recommended Products')\n",
        "\n",
        "    #Filtering the dataframe where actual ratings are 0 which implies that the user has not interacted with that product\n",
        "    temp = temp.loc[temp.user_ratings == 0]\n",
        "\n",
        "    #Recommending products with top predicted ratings\n",
        "    temp = temp.sort_values('user_predictions',ascending=False)#Sort the dataframe by user_predictions in descending order\n",
        "    print('\\nBelow are the recommended products for user(user_id = {}):\\n'.format(user_index))\n",
        "    print(temp['user_predictions'].head(num_recommendations))\n"
      ]
    },
    {
      "cell_type": "markdown",
      "metadata": {
        "id": "ni3knh42f5qa"
      },
      "source": [
        "### Recommending top 5 products to user id 121"
      ]
    },
    {
      "cell_type": "code",
      "execution_count": 74,
      "metadata": {
        "colab": {
          "base_uri": "https://localhost:8080/"
        },
        "id": "IxLbE4G6f80b",
        "outputId": "9db9e9ee-3999-4a06-9a73-ead583865ded"
      },
      "outputs": [
        {
          "name": "stdout",
          "output_type": "stream",
          "text": [
            "\n",
            "Below are the recommended products for user(user_id = 121):\n",
            "\n",
            "Recommended Products\n",
            "12323    0.231035\n",
            "4560     0.180850\n",
            "5700     0.170876\n",
            "7164     0.168580\n",
            "361      0.167992\n",
            "Name: user_predictions, dtype: float64\n"
          ]
        }
      ],
      "source": [
        "#Enter 'user index' and 'num_recommendations' for the user\n",
        "recommend_items(121,final_ratings_sparse,preds_matrix,5)"
      ]
    },
    {
      "cell_type": "markdown",
      "metadata": {
        "id": "913jkZjPm9qr"
      },
      "source": [
        "### Recommending top 10 products to user id 100"
      ]
    },
    {
      "cell_type": "code",
      "execution_count": 75,
      "metadata": {
        "colab": {
          "base_uri": "https://localhost:8080/"
        },
        "id": "QVBWustNlnXh",
        "outputId": "19185fbe-765e-4ac4-cf1c-07a805824a98"
      },
      "outputs": [
        {
          "name": "stdout",
          "output_type": "stream",
          "text": [
            "\n",
            "Below are the recommended products for user(user_id = 100):\n",
            "\n",
            "Recommended Products\n",
            "14738    1.111167\n",
            "14433    0.986382\n",
            "14431    0.968452\n",
            "14590    0.926752\n",
            "3626     0.889151\n",
            "12508    0.879329\n",
            "14426    0.833219\n",
            "14871    0.825405\n",
            "12509    0.798574\n",
            "14875    0.798140\n",
            "Name: user_predictions, dtype: float64\n"
          ]
        }
      ],
      "source": [
        "recommend_items(100,final_ratings_sparse,preds_matrix,10)"
      ]
    },
    {
      "cell_type": "markdown",
      "metadata": {
        "id": "th5-d8wFmD9r"
      },
      "source": [
        "## Evaluating the model"
      ]
    },
    {
      "cell_type": "code",
      "execution_count": 76,
      "metadata": {
        "colab": {
          "base_uri": "https://localhost:8080/",
          "height": 331
        },
        "id": "iZYhmD6hmEPz",
        "outputId": "b2c5355a-3e17-4536-ed75-ef854c48be66"
      },
      "outputs": [
        {
          "data": {
            "text/html": [
              "<div>\n",
              "<style scoped>\n",
              "    .dataframe tbody tr th:only-of-type {\n",
              "        vertical-align: middle;\n",
              "    }\n",
              "\n",
              "    .dataframe tbody tr th {\n",
              "        vertical-align: top;\n",
              "    }\n",
              "\n",
              "    .dataframe thead th {\n",
              "        text-align: right;\n",
              "    }\n",
              "</style>\n",
              "<table border=\"1\" class=\"dataframe\">\n",
              "  <thead>\n",
              "    <tr style=\"text-align: right;\">\n",
              "      <th>ProductId</th>\n",
              "      <th>0762451459</th>\n",
              "      <th>1304482596</th>\n",
              "      <th>1304482685</th>\n",
              "      <th>1304495396</th>\n",
              "      <th>1304511111</th>\n",
              "      <th>1304511138</th>\n",
              "      <th>1304622665</th>\n",
              "      <th>1304624498</th>\n",
              "      <th>1304651029</th>\n",
              "      <th>130466578X</th>\n",
              "      <th>...</th>\n",
              "      <th>B00L3LB0IG</th>\n",
              "      <th>B00L3LBUGI</th>\n",
              "      <th>B00L4I5PJS</th>\n",
              "      <th>B00L5BXG36</th>\n",
              "      <th>B00L5KTZ0K</th>\n",
              "      <th>B00L7BX4FE</th>\n",
              "      <th>B00LG63DOM</th>\n",
              "      <th>B00LH81A0I</th>\n",
              "      <th>B00LLPT4HI</th>\n",
              "      <th>B00LMOT7X4</th>\n",
              "    </tr>\n",
              "    <tr>\n",
              "      <th>user_index</th>\n",
              "      <th></th>\n",
              "      <th></th>\n",
              "      <th></th>\n",
              "      <th></th>\n",
              "      <th></th>\n",
              "      <th></th>\n",
              "      <th></th>\n",
              "      <th></th>\n",
              "      <th></th>\n",
              "      <th></th>\n",
              "      <th></th>\n",
              "      <th></th>\n",
              "      <th></th>\n",
              "      <th></th>\n",
              "      <th></th>\n",
              "      <th></th>\n",
              "      <th></th>\n",
              "      <th></th>\n",
              "      <th></th>\n",
              "      <th></th>\n",
              "      <th></th>\n",
              "    </tr>\n",
              "  </thead>\n",
              "  <tbody>\n",
              "    <tr>\n",
              "      <th>0</th>\n",
              "      <td>0.0</td>\n",
              "      <td>0.0</td>\n",
              "      <td>0.0</td>\n",
              "      <td>0.0</td>\n",
              "      <td>0.0</td>\n",
              "      <td>0.0</td>\n",
              "      <td>0.0</td>\n",
              "      <td>0.0</td>\n",
              "      <td>0.0</td>\n",
              "      <td>0.0</td>\n",
              "      <td>...</td>\n",
              "      <td>0.0</td>\n",
              "      <td>0.0</td>\n",
              "      <td>0.0</td>\n",
              "      <td>0.0</td>\n",
              "      <td>0.0</td>\n",
              "      <td>0.0</td>\n",
              "      <td>0.0</td>\n",
              "      <td>0.0</td>\n",
              "      <td>0.0</td>\n",
              "      <td>0.0</td>\n",
              "    </tr>\n",
              "    <tr>\n",
              "      <th>1</th>\n",
              "      <td>0.0</td>\n",
              "      <td>0.0</td>\n",
              "      <td>0.0</td>\n",
              "      <td>0.0</td>\n",
              "      <td>0.0</td>\n",
              "      <td>0.0</td>\n",
              "      <td>0.0</td>\n",
              "      <td>0.0</td>\n",
              "      <td>0.0</td>\n",
              "      <td>0.0</td>\n",
              "      <td>...</td>\n",
              "      <td>0.0</td>\n",
              "      <td>0.0</td>\n",
              "      <td>0.0</td>\n",
              "      <td>0.0</td>\n",
              "      <td>0.0</td>\n",
              "      <td>0.0</td>\n",
              "      <td>0.0</td>\n",
              "      <td>0.0</td>\n",
              "      <td>0.0</td>\n",
              "      <td>0.0</td>\n",
              "    </tr>\n",
              "    <tr>\n",
              "      <th>2</th>\n",
              "      <td>0.0</td>\n",
              "      <td>0.0</td>\n",
              "      <td>0.0</td>\n",
              "      <td>0.0</td>\n",
              "      <td>0.0</td>\n",
              "      <td>0.0</td>\n",
              "      <td>0.0</td>\n",
              "      <td>0.0</td>\n",
              "      <td>0.0</td>\n",
              "      <td>0.0</td>\n",
              "      <td>...</td>\n",
              "      <td>0.0</td>\n",
              "      <td>0.0</td>\n",
              "      <td>0.0</td>\n",
              "      <td>0.0</td>\n",
              "      <td>0.0</td>\n",
              "      <td>0.0</td>\n",
              "      <td>0.0</td>\n",
              "      <td>0.0</td>\n",
              "      <td>0.0</td>\n",
              "      <td>0.0</td>\n",
              "    </tr>\n",
              "    <tr>\n",
              "      <th>3</th>\n",
              "      <td>0.0</td>\n",
              "      <td>0.0</td>\n",
              "      <td>0.0</td>\n",
              "      <td>0.0</td>\n",
              "      <td>0.0</td>\n",
              "      <td>0.0</td>\n",
              "      <td>0.0</td>\n",
              "      <td>0.0</td>\n",
              "      <td>0.0</td>\n",
              "      <td>0.0</td>\n",
              "      <td>...</td>\n",
              "      <td>0.0</td>\n",
              "      <td>0.0</td>\n",
              "      <td>0.0</td>\n",
              "      <td>0.0</td>\n",
              "      <td>0.0</td>\n",
              "      <td>0.0</td>\n",
              "      <td>0.0</td>\n",
              "      <td>0.0</td>\n",
              "      <td>0.0</td>\n",
              "      <td>0.0</td>\n",
              "    </tr>\n",
              "    <tr>\n",
              "      <th>4</th>\n",
              "      <td>0.0</td>\n",
              "      <td>0.0</td>\n",
              "      <td>0.0</td>\n",
              "      <td>0.0</td>\n",
              "      <td>0.0</td>\n",
              "      <td>0.0</td>\n",
              "      <td>0.0</td>\n",
              "      <td>0.0</td>\n",
              "      <td>0.0</td>\n",
              "      <td>0.0</td>\n",
              "      <td>...</td>\n",
              "      <td>0.0</td>\n",
              "      <td>0.0</td>\n",
              "      <td>0.0</td>\n",
              "      <td>0.0</td>\n",
              "      <td>0.0</td>\n",
              "      <td>0.0</td>\n",
              "      <td>0.0</td>\n",
              "      <td>0.0</td>\n",
              "      <td>0.0</td>\n",
              "      <td>0.0</td>\n",
              "    </tr>\n",
              "  </tbody>\n",
              "</table>\n",
              "<p>5 rows × 17228 columns</p>\n",
              "</div>"
            ],
            "text/plain": [
              "ProductId   0762451459  1304482596  1304482685  1304495396  1304511111  \\\n",
              "user_index                                                               \n",
              "0                  0.0         0.0         0.0         0.0         0.0   \n",
              "1                  0.0         0.0         0.0         0.0         0.0   \n",
              "2                  0.0         0.0         0.0         0.0         0.0   \n",
              "3                  0.0         0.0         0.0         0.0         0.0   \n",
              "4                  0.0         0.0         0.0         0.0         0.0   \n",
              "\n",
              "ProductId   1304511138  1304622665  1304624498  1304651029  130466578X  ...  \\\n",
              "user_index                                                              ...   \n",
              "0                  0.0         0.0         0.0         0.0         0.0  ...   \n",
              "1                  0.0         0.0         0.0         0.0         0.0  ...   \n",
              "2                  0.0         0.0         0.0         0.0         0.0  ...   \n",
              "3                  0.0         0.0         0.0         0.0         0.0  ...   \n",
              "4                  0.0         0.0         0.0         0.0         0.0  ...   \n",
              "\n",
              "ProductId   B00L3LB0IG  B00L3LBUGI  B00L4I5PJS  B00L5BXG36  B00L5KTZ0K  \\\n",
              "user_index                                                               \n",
              "0                  0.0         0.0         0.0         0.0         0.0   \n",
              "1                  0.0         0.0         0.0         0.0         0.0   \n",
              "2                  0.0         0.0         0.0         0.0         0.0   \n",
              "3                  0.0         0.0         0.0         0.0         0.0   \n",
              "4                  0.0         0.0         0.0         0.0         0.0   \n",
              "\n",
              "ProductId   B00L7BX4FE  B00LG63DOM  B00LH81A0I  B00LLPT4HI  B00LMOT7X4  \n",
              "user_index                                                              \n",
              "0                  0.0         0.0         0.0         0.0         0.0  \n",
              "1                  0.0         0.0         0.0         0.0         0.0  \n",
              "2                  0.0         0.0         0.0         0.0         0.0  \n",
              "3                  0.0         0.0         0.0         0.0         0.0  \n",
              "4                  0.0         0.0         0.0         0.0         0.0  \n",
              "\n",
              "[5 rows x 17228 columns]"
            ]
          },
          "execution_count": 76,
          "metadata": {},
          "output_type": "execute_result"
        }
      ],
      "source": [
        "final_ratings_matrix['user_index'] = np.arange(0, final_ratings_matrix.shape[0])\n",
        "final_ratings_matrix.set_index(['user_index'], inplace=True)\n",
        "\n",
        "# Actual ratings given by users\n",
        "final_ratings_matrix.head()"
      ]
    },
    {
      "cell_type": "code",
      "execution_count": 77,
      "metadata": {
        "colab": {
          "base_uri": "https://localhost:8080/"
        },
        "id": "3cTXMcS0mNni",
        "outputId": "c3d0c15b-e3fc-42ab-a66d-88db90de364c"
      },
      "outputs": [
        {
          "data": {
            "text/plain": [
              "ProductId\n",
              "0762451459    0.01385\n",
              "1304482596    0.00277\n",
              "1304482685    0.00277\n",
              "1304495396    0.00277\n",
              "1304511111    0.00277\n",
              "dtype: float64"
            ]
          },
          "execution_count": 77,
          "metadata": {},
          "output_type": "execute_result"
        }
      ],
      "source": [
        "average_rating = final_ratings_matrix.mean()\n",
        "average_rating.head()"
      ]
    },
    {
      "cell_type": "code",
      "execution_count": 78,
      "metadata": {
        "colab": {
          "base_uri": "https://localhost:8080/",
          "height": 299
        },
        "id": "-QoOy6c2mQIj",
        "outputId": "fa3504da-4f29-42f5-d747-79f4886b80d6"
      },
      "outputs": [
        {
          "data": {
            "text/html": [
              "<div>\n",
              "<style scoped>\n",
              "    .dataframe tbody tr th:only-of-type {\n",
              "        vertical-align: middle;\n",
              "    }\n",
              "\n",
              "    .dataframe tbody tr th {\n",
              "        vertical-align: top;\n",
              "    }\n",
              "\n",
              "    .dataframe thead th {\n",
              "        text-align: right;\n",
              "    }\n",
              "</style>\n",
              "<table border=\"1\" class=\"dataframe\">\n",
              "  <thead>\n",
              "    <tr style=\"text-align: right;\">\n",
              "      <th>ProductId</th>\n",
              "      <th>0762451459</th>\n",
              "      <th>1304482596</th>\n",
              "      <th>1304482685</th>\n",
              "      <th>1304495396</th>\n",
              "      <th>1304511111</th>\n",
              "      <th>1304511138</th>\n",
              "      <th>1304622665</th>\n",
              "      <th>1304624498</th>\n",
              "      <th>1304651029</th>\n",
              "      <th>130466578X</th>\n",
              "      <th>...</th>\n",
              "      <th>B00L3LB0IG</th>\n",
              "      <th>B00L3LBUGI</th>\n",
              "      <th>B00L4I5PJS</th>\n",
              "      <th>B00L5BXG36</th>\n",
              "      <th>B00L5KTZ0K</th>\n",
              "      <th>B00L7BX4FE</th>\n",
              "      <th>B00LG63DOM</th>\n",
              "      <th>B00LH81A0I</th>\n",
              "      <th>B00LLPT4HI</th>\n",
              "      <th>B00LMOT7X4</th>\n",
              "    </tr>\n",
              "  </thead>\n",
              "  <tbody>\n",
              "    <tr>\n",
              "      <th>0</th>\n",
              "      <td>0.047090</td>\n",
              "      <td>0.000124</td>\n",
              "      <td>0.000124</td>\n",
              "      <td>0.000124</td>\n",
              "      <td>0.000124</td>\n",
              "      <td>0.000124</td>\n",
              "      <td>0.000124</td>\n",
              "      <td>0.000124</td>\n",
              "      <td>0.000124</td>\n",
              "      <td>0.000124</td>\n",
              "      <td>...</td>\n",
              "      <td>0.015907</td>\n",
              "      <td>0.015907</td>\n",
              "      <td>1.426274e-02</td>\n",
              "      <td>0.039624</td>\n",
              "      <td>0.031367</td>\n",
              "      <td>0.023621</td>\n",
              "      <td>0.015907</td>\n",
              "      <td>0.007613</td>\n",
              "      <td>0.100581</td>\n",
              "      <td>0.011551</td>\n",
              "    </tr>\n",
              "    <tr>\n",
              "      <th>1</th>\n",
              "      <td>0.000417</td>\n",
              "      <td>0.000071</td>\n",
              "      <td>0.000071</td>\n",
              "      <td>0.000071</td>\n",
              "      <td>0.000071</td>\n",
              "      <td>0.000071</td>\n",
              "      <td>0.000071</td>\n",
              "      <td>0.000071</td>\n",
              "      <td>0.000071</td>\n",
              "      <td>0.000071</td>\n",
              "      <td>...</td>\n",
              "      <td>0.001455</td>\n",
              "      <td>0.001455</td>\n",
              "      <td>4.574687e-03</td>\n",
              "      <td>0.024927</td>\n",
              "      <td>0.002310</td>\n",
              "      <td>0.114070</td>\n",
              "      <td>0.001455</td>\n",
              "      <td>0.000406</td>\n",
              "      <td>0.028418</td>\n",
              "      <td>0.011666</td>\n",
              "    </tr>\n",
              "    <tr>\n",
              "      <th>2</th>\n",
              "      <td>0.004305</td>\n",
              "      <td>0.000128</td>\n",
              "      <td>0.000128</td>\n",
              "      <td>0.000128</td>\n",
              "      <td>0.000128</td>\n",
              "      <td>0.000128</td>\n",
              "      <td>0.000128</td>\n",
              "      <td>0.000128</td>\n",
              "      <td>0.000128</td>\n",
              "      <td>0.000128</td>\n",
              "      <td>...</td>\n",
              "      <td>0.001272</td>\n",
              "      <td>0.001272</td>\n",
              "      <td>9.245031e-03</td>\n",
              "      <td>0.010621</td>\n",
              "      <td>0.002462</td>\n",
              "      <td>0.002917</td>\n",
              "      <td>0.001272</td>\n",
              "      <td>0.007446</td>\n",
              "      <td>0.008230</td>\n",
              "      <td>0.021596</td>\n",
              "    </tr>\n",
              "    <tr>\n",
              "      <th>3</th>\n",
              "      <td>0.000094</td>\n",
              "      <td>0.000002</td>\n",
              "      <td>0.000002</td>\n",
              "      <td>0.000002</td>\n",
              "      <td>0.000002</td>\n",
              "      <td>0.000002</td>\n",
              "      <td>0.000002</td>\n",
              "      <td>0.000002</td>\n",
              "      <td>0.000002</td>\n",
              "      <td>0.000002</td>\n",
              "      <td>...</td>\n",
              "      <td>0.000119</td>\n",
              "      <td>0.000119</td>\n",
              "      <td>7.511873e-07</td>\n",
              "      <td>0.000021</td>\n",
              "      <td>0.000225</td>\n",
              "      <td>0.000218</td>\n",
              "      <td>0.000119</td>\n",
              "      <td>0.000432</td>\n",
              "      <td>0.000316</td>\n",
              "      <td>0.000302</td>\n",
              "    </tr>\n",
              "    <tr>\n",
              "      <th>4</th>\n",
              "      <td>0.011773</td>\n",
              "      <td>0.000171</td>\n",
              "      <td>0.000171</td>\n",
              "      <td>0.000171</td>\n",
              "      <td>0.000171</td>\n",
              "      <td>0.000171</td>\n",
              "      <td>0.000171</td>\n",
              "      <td>0.000171</td>\n",
              "      <td>0.000171</td>\n",
              "      <td>0.000171</td>\n",
              "      <td>...</td>\n",
              "      <td>0.000615</td>\n",
              "      <td>0.000615</td>\n",
              "      <td>2.893702e-03</td>\n",
              "      <td>0.014905</td>\n",
              "      <td>0.001234</td>\n",
              "      <td>0.009558</td>\n",
              "      <td>0.000615</td>\n",
              "      <td>0.002654</td>\n",
              "      <td>0.016044</td>\n",
              "      <td>0.010468</td>\n",
              "    </tr>\n",
              "  </tbody>\n",
              "</table>\n",
              "<p>5 rows × 17228 columns</p>\n",
              "</div>"
            ],
            "text/plain": [
              "ProductId  0762451459  1304482596  1304482685  1304495396  1304511111  \\\n",
              "0            0.047090    0.000124    0.000124    0.000124    0.000124   \n",
              "1            0.000417    0.000071    0.000071    0.000071    0.000071   \n",
              "2            0.004305    0.000128    0.000128    0.000128    0.000128   \n",
              "3            0.000094    0.000002    0.000002    0.000002    0.000002   \n",
              "4            0.011773    0.000171    0.000171    0.000171    0.000171   \n",
              "\n",
              "ProductId  1304511138  1304622665  1304624498  1304651029  130466578X  ...  \\\n",
              "0            0.000124    0.000124    0.000124    0.000124    0.000124  ...   \n",
              "1            0.000071    0.000071    0.000071    0.000071    0.000071  ...   \n",
              "2            0.000128    0.000128    0.000128    0.000128    0.000128  ...   \n",
              "3            0.000002    0.000002    0.000002    0.000002    0.000002  ...   \n",
              "4            0.000171    0.000171    0.000171    0.000171    0.000171  ...   \n",
              "\n",
              "ProductId  B00L3LB0IG  B00L3LBUGI    B00L4I5PJS  B00L5BXG36  B00L5KTZ0K  \\\n",
              "0            0.015907    0.015907  1.426274e-02    0.039624    0.031367   \n",
              "1            0.001455    0.001455  4.574687e-03    0.024927    0.002310   \n",
              "2            0.001272    0.001272  9.245031e-03    0.010621    0.002462   \n",
              "3            0.000119    0.000119  7.511873e-07    0.000021    0.000225   \n",
              "4            0.000615    0.000615  2.893702e-03    0.014905    0.001234   \n",
              "\n",
              "ProductId  B00L7BX4FE  B00LG63DOM  B00LH81A0I  B00LLPT4HI  B00LMOT7X4  \n",
              "0            0.023621    0.015907    0.007613    0.100581    0.011551  \n",
              "1            0.114070    0.001455    0.000406    0.028418    0.011666  \n",
              "2            0.002917    0.001272    0.007446    0.008230    0.021596  \n",
              "3            0.000218    0.000119    0.000432    0.000316    0.000302  \n",
              "4            0.009558    0.000615    0.002654    0.016044    0.010468  \n",
              "\n",
              "[5 rows x 17228 columns]"
            ]
          },
          "execution_count": 78,
          "metadata": {},
          "output_type": "execute_result"
        }
      ],
      "source": [
        "preds_df.head()"
      ]
    },
    {
      "cell_type": "code",
      "execution_count": 79,
      "metadata": {
        "colab": {
          "base_uri": "https://localhost:8080/"
        },
        "id": "r19iVskYmTSV",
        "outputId": "d6a6540b-2d6f-4d9b-a27f-a2b783454a51"
      },
      "outputs": [
        {
          "data": {
            "text/plain": [
              "ProductId\n",
              "0762451459    0.043818\n",
              "1304482596    0.000441\n",
              "1304482685    0.000441\n",
              "1304495396    0.000441\n",
              "1304511111    0.000441\n",
              "dtype: float64"
            ]
          },
          "execution_count": 79,
          "metadata": {},
          "output_type": "execute_result"
        }
      ],
      "source": [
        "avg_preds=preds_df.mean()\n",
        "avg_preds.head()"
      ]
    },
    {
      "cell_type": "code",
      "execution_count": 80,
      "metadata": {
        "colab": {
          "base_uri": "https://localhost:8080/",
          "height": 237
        },
        "id": "5Aeap4h2mVTM",
        "outputId": "ccc881df-f14a-4d8c-fdb2-0e9efa7f9de7"
      },
      "outputs": [
        {
          "data": {
            "text/html": [
              "<div>\n",
              "<style scoped>\n",
              "    .dataframe tbody tr th:only-of-type {\n",
              "        vertical-align: middle;\n",
              "    }\n",
              "\n",
              "    .dataframe tbody tr th {\n",
              "        vertical-align: top;\n",
              "    }\n",
              "\n",
              "    .dataframe thead th {\n",
              "        text-align: right;\n",
              "    }\n",
              "</style>\n",
              "<table border=\"1\" class=\"dataframe\">\n",
              "  <thead>\n",
              "    <tr style=\"text-align: right;\">\n",
              "      <th></th>\n",
              "      <th>Avg_actual_ratings</th>\n",
              "      <th>Avg_predicted_ratings</th>\n",
              "    </tr>\n",
              "    <tr>\n",
              "      <th>ProductId</th>\n",
              "      <th></th>\n",
              "      <th></th>\n",
              "    </tr>\n",
              "  </thead>\n",
              "  <tbody>\n",
              "    <tr>\n",
              "      <th>0762451459</th>\n",
              "      <td>0.01385</td>\n",
              "      <td>0.043818</td>\n",
              "    </tr>\n",
              "    <tr>\n",
              "      <th>1304482596</th>\n",
              "      <td>0.00277</td>\n",
              "      <td>0.000441</td>\n",
              "    </tr>\n",
              "    <tr>\n",
              "      <th>1304482685</th>\n",
              "      <td>0.00277</td>\n",
              "      <td>0.000441</td>\n",
              "    </tr>\n",
              "    <tr>\n",
              "      <th>1304495396</th>\n",
              "      <td>0.00277</td>\n",
              "      <td>0.000441</td>\n",
              "    </tr>\n",
              "    <tr>\n",
              "      <th>1304511111</th>\n",
              "      <td>0.00277</td>\n",
              "      <td>0.000441</td>\n",
              "    </tr>\n",
              "  </tbody>\n",
              "</table>\n",
              "</div>"
            ],
            "text/plain": [
              "            Avg_actual_ratings  Avg_predicted_ratings\n",
              "ProductId                                            \n",
              "0762451459             0.01385               0.043818\n",
              "1304482596             0.00277               0.000441\n",
              "1304482685             0.00277               0.000441\n",
              "1304495396             0.00277               0.000441\n",
              "1304511111             0.00277               0.000441"
            ]
          },
          "execution_count": 80,
          "metadata": {},
          "output_type": "execute_result"
        }
      ],
      "source": [
        "rmse_df = pd.concat([average_rating, avg_preds], axis=1)\n",
        "\n",
        "rmse_df.columns = ['Avg_actual_ratings', 'Avg_predicted_ratings']\n",
        "\n",
        "rmse_df.head()"
      ]
    },
    {
      "cell_type": "code",
      "execution_count": 81,
      "metadata": {
        "colab": {
          "base_uri": "https://localhost:8080/"
        },
        "id": "l9HPwqQwmWoq",
        "outputId": "e1c1c435-f583-4d1c-d34a-432366cef52f"
      },
      "outputs": [
        {
          "name": "stdout",
          "output_type": "stream",
          "text": [
            "RMSE SVD Model = 0.026487939760784365 \n",
            "\n"
          ]
        },
        {
          "name": "stderr",
          "output_type": "stream",
          "text": [
            "c:\\Users\\NailFerroukhi\\miniconda3\\Lib\\site-packages\\sklearn\\metrics\\_regression.py:483: FutureWarning: 'squared' is deprecated in version 1.4 and will be removed in 1.6. To calculate the root mean squared error, use the function'root_mean_squared_error'.\n",
            "  warnings.warn(\n"
          ]
        }
      ],
      "source": [
        "RMSE=mean_squared_error(rmse_df['Avg_actual_ratings'], rmse_df['Avg_predicted_ratings'], squared=False)\n",
        "print(f'RMSE SVD Model = {RMSE} \\n')"
      ]
    }
  ],
  "metadata": {
    "accelerator": "GPU",
    "colab": {
      "collapsed_sections": [
        "7dzfbm7tw1YJ"
      ],
      "gpuType": "T4",
      "provenance": []
    },
    "gpuClass": "standard",
    "kernelspec": {
      "display_name": "Python 3",
      "name": "python3"
    },
    "language_info": {
      "codemirror_mode": {
        "name": "ipython",
        "version": 3
      },
      "file_extension": ".py",
      "mimetype": "text/x-python",
      "name": "python",
      "nbconvert_exporter": "python",
      "pygments_lexer": "ipython3",
      "version": "3.11.4"
    }
  },
  "nbformat": 4,
  "nbformat_minor": 0
}
